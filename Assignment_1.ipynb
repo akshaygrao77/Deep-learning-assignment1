{
  "cells": [
    {
      "cell_type": "markdown",
      "metadata": {
        "id": "view-in-github",
        "colab_type": "text"
      },
      "source": [
        "<a href=\"https://colab.research.google.com/github/akshaygrao77/Deep-learning-assignment1/blob/main/Assignment_1.ipynb\" target=\"_parent\"><img src=\"https://colab.research.google.com/assets/colab-badge.svg\" alt=\"Open In Colab\"/></a>"
      ]
    },
    {
      "cell_type": "code",
      "execution_count": 4,
      "metadata": {
        "id": "c56SyC-YJP2l"
      },
      "outputs": [],
      "source": [
        "from keras.datasets import fashion_mnist\n",
        "import matplotlib.pyplot as plt\n",
        "import numpy as np\n",
        "import math\n",
        "from sklearn.metrics import confusion_matrix\n",
        "from sklearn.model_selection import train_test_split\n",
        "# Only used to show progressbar while inside an epoch\n",
        "from tqdm.notebook import tqdm "
      ]
    },
    {
      "cell_type": "code",
      "execution_count": 5,
      "metadata": {
        "colab": {
          "base_uri": "https://localhost:8080/"
        },
        "id": "UDs0PaU3bSy1",
        "outputId": "345ee36c-69ef-4bdf-96b0-0e97b481f1e3"
      },
      "outputs": [
        {
          "output_type": "stream",
          "name": "stdout",
          "text": [
            "Requirement already satisfied: wandb in /usr/local/lib/python3.7/dist-packages (0.12.10)\n",
            "Requirement already satisfied: requests<3,>=2.0.0 in /usr/local/lib/python3.7/dist-packages (from wandb) (2.23.0)\n",
            "Requirement already satisfied: Click!=8.0.0,>=7.0 in /usr/local/lib/python3.7/dist-packages (from wandb) (7.1.2)\n",
            "Requirement already satisfied: PyYAML in /usr/local/lib/python3.7/dist-packages (from wandb) (3.13)\n",
            "Requirement already satisfied: protobuf>=3.12.0 in /usr/local/lib/python3.7/dist-packages (from wandb) (3.17.3)\n",
            "Requirement already satisfied: promise<3,>=2.0 in /usr/local/lib/python3.7/dist-packages (from wandb) (2.3)\n",
            "Requirement already satisfied: shortuuid>=0.5.0 in /usr/local/lib/python3.7/dist-packages (from wandb) (1.0.8)\n",
            "Requirement already satisfied: pathtools in /usr/local/lib/python3.7/dist-packages (from wandb) (0.1.2)\n",
            "Requirement already satisfied: sentry-sdk>=1.0.0 in /usr/local/lib/python3.7/dist-packages (from wandb) (1.5.6)\n",
            "Requirement already satisfied: docker-pycreds>=0.4.0 in /usr/local/lib/python3.7/dist-packages (from wandb) (0.4.0)\n",
            "Requirement already satisfied: GitPython>=1.0.0 in /usr/local/lib/python3.7/dist-packages (from wandb) (3.1.27)\n",
            "Requirement already satisfied: python-dateutil>=2.6.1 in /usr/local/lib/python3.7/dist-packages (from wandb) (2.8.2)\n",
            "Requirement already satisfied: psutil>=5.0.0 in /usr/local/lib/python3.7/dist-packages (from wandb) (5.4.8)\n",
            "Requirement already satisfied: six>=1.13.0 in /usr/local/lib/python3.7/dist-packages (from wandb) (1.15.0)\n",
            "Requirement already satisfied: yaspin>=1.0.0 in /usr/local/lib/python3.7/dist-packages (from wandb) (2.1.0)\n",
            "Requirement already satisfied: gitdb<5,>=4.0.1 in /usr/local/lib/python3.7/dist-packages (from GitPython>=1.0.0->wandb) (4.0.9)\n",
            "Requirement already satisfied: typing-extensions>=3.7.4.3 in /usr/local/lib/python3.7/dist-packages (from GitPython>=1.0.0->wandb) (3.10.0.2)\n",
            "Requirement already satisfied: smmap<6,>=3.0.1 in /usr/local/lib/python3.7/dist-packages (from gitdb<5,>=4.0.1->GitPython>=1.0.0->wandb) (5.0.0)\n",
            "Requirement already satisfied: urllib3!=1.25.0,!=1.25.1,<1.26,>=1.21.1 in /usr/local/lib/python3.7/dist-packages (from requests<3,>=2.0.0->wandb) (1.24.3)\n",
            "Requirement already satisfied: idna<3,>=2.5 in /usr/local/lib/python3.7/dist-packages (from requests<3,>=2.0.0->wandb) (2.10)\n",
            "Requirement already satisfied: certifi>=2017.4.17 in /usr/local/lib/python3.7/dist-packages (from requests<3,>=2.0.0->wandb) (2021.10.8)\n",
            "Requirement already satisfied: chardet<4,>=3.0.2 in /usr/local/lib/python3.7/dist-packages (from requests<3,>=2.0.0->wandb) (3.0.4)\n",
            "Requirement already satisfied: termcolor<2.0.0,>=1.1.0 in /usr/local/lib/python3.7/dist-packages (from yaspin>=1.0.0->wandb) (1.1.0)\n",
            "\u001b[34m\u001b[1mwandb\u001b[0m: Currently logged in as: \u001b[33mmanu_data_analyst\u001b[0m (use `wandb login --relogin` to force relogin)\n"
          ]
        }
      ],
      "source": [
        "!pip install wandb\n",
        "!wandb login"
      ]
    },
    {
      "cell_type": "code",
      "execution_count": 6,
      "metadata": {
        "id": "l7S9Txmvby9G",
        "colab": {
          "base_uri": "https://localhost:8080/",
          "height": 596,
          "referenced_widgets": [
            "f3b309790f2d4fc480a150abfa6a37fe",
            "024ecdf8702147e497c0db3dfd63f31a",
            "b24220775cb24a3cb05cb19e8df10f2c",
            "5b354a9932024767a28e76b2cd955b50",
            "7a75b733c56f42b3aa2c707206130b82",
            "4c2a4dd4ed2540aaa17dce6b66cb152d",
            "d8241d9231024f40b51f365bafd8c594",
            "2d7340f6c9a849cfafcdd0b468da56f6"
          ]
        },
        "outputId": "f6b7c667-685f-4fc1-fb79-82a2540533a3"
      },
      "outputs": [
        {
          "output_type": "display_data",
          "data": {
            "text/html": [
              "Finishing last run (ID:ftvbndwm) before initializing another..."
            ],
            "text/plain": [
              "<IPython.core.display.HTML object>"
            ]
          },
          "metadata": {}
        },
        {
          "output_type": "display_data",
          "data": {
            "text/html": [
              "<br/>Waiting for W&B process to finish, PID 188... <strong style=\"color:green\">(success).</strong>"
            ],
            "text/plain": [
              "<IPython.core.display.HTML object>"
            ]
          },
          "metadata": {}
        },
        {
          "output_type": "display_data",
          "data": {
            "application/vnd.jupyter.widget-view+json": {
              "model_id": "f3b309790f2d4fc480a150abfa6a37fe",
              "version_minor": 0,
              "version_major": 2
            },
            "text/plain": [
              "VBox(children=(Label(value=' 0.00MB of 0.00MB uploaded (0.00MB deduped)\\r'), FloatProgress(value=1.0, max=1.0)…"
            ]
          },
          "metadata": {}
        },
        {
          "output_type": "display_data",
          "data": {
            "text/html": [
              "<style>\n",
              "    table.wandb td:nth-child(1) { padding: 0 10px; text-align: right }\n",
              "    .wandb-row { display: flex; flex-direction: row; flex-wrap: wrap; width: 100% }\n",
              "    .wandb-col { display: flex; flex-direction: column; flex-basis: 100%; flex: 1; padding: 10px; }\n",
              "    </style>\n",
              "<div class=\"wandb-row\"><div class=\"wandb-col\">\n",
              "</div><div class=\"wandb-col\">\n",
              "</div></div>\n",
              "Synced 5 W&B file(s), 0 media file(s), 0 artifact file(s) and 0 other file(s)\n",
              "<br/>Synced <strong style=\"color:#cdcd00\">quiet-planet-6</strong>: <a href=\"https://wandb.ai/manu_data_analyst/cs21s002-ee21s113-dlassignment-1/runs/ftvbndwm\" target=\"_blank\">https://wandb.ai/manu_data_analyst/cs21s002-ee21s113-dlassignment-1/runs/ftvbndwm</a><br/>\n",
              "Find logs at: <code>./wandb/run-20220222_190430-ftvbndwm/logs</code><br/>\n"
            ],
            "text/plain": [
              "<IPython.core.display.HTML object>"
            ]
          },
          "metadata": {}
        },
        {
          "output_type": "display_data",
          "data": {
            "text/html": [
              "Successfully finished last run (ID:ftvbndwm). Initializing new run:<br/>"
            ],
            "text/plain": [
              "<IPython.core.display.HTML object>"
            ]
          },
          "metadata": {}
        },
        {
          "output_type": "display_data",
          "data": {
            "text/html": [
              "\n",
              "                    Syncing run <strong><a href=\"https://wandb.ai/manu_data_analyst/cs21s002-ee21s113-dlassignment-1/runs/llaj53wi\" target=\"_blank\">wobbly-haze-7</a></strong> to <a href=\"https://wandb.ai/manu_data_analyst/cs21s002-ee21s113-dlassignment-1\" target=\"_blank\">Weights & Biases</a> (<a href=\"https://docs.wandb.com/integrations/jupyter.html\" target=\"_blank\">docs</a>).<br/>\n",
              "\n",
              "                "
            ],
            "text/plain": [
              "<IPython.core.display.HTML object>"
            ]
          },
          "metadata": {}
        },
        {
          "output_type": "execute_result",
          "data": {
            "text/plain": [
              "<wandb.sdk.wandb_run.Run at 0x7fad460abf90>"
            ],
            "text/html": [
              "<button onClick=\"this.nextSibling.style.display='block';this.style.display='none';\">Display W&B run</button><iframe src=\"https://wandb.ai/manu_data_analyst/cs21s002-ee21s113-dlassignment-1/runs/llaj53wi?jupyter=true\" style=\"border:none;width:100%;height:420px;display:none;\"></iframe>"
            ]
          },
          "metadata": {},
          "execution_count": 6
        }
      ],
      "source": [
        "import wandb\n",
        "\n",
        "wandb.init(project=\"cs21s002-ee21s113-dlassignment-1\", entity=\"manu_data_analyst\")\n",
        " "
      ]
    },
    {
      "cell_type": "markdown",
      "metadata": {
        "id": "vhblbkxZZTB3"
      },
      "source": [
        "# **Question 1 starts**"
      ]
    },
    {
      "cell_type": "markdown",
      "metadata": {
        "id": "GWft3bAmZLfz"
      },
      "source": [
        "Loading dataset from fashio-mnist"
      ]
    },
    {
      "cell_type": "code",
      "execution_count": 7,
      "metadata": {
        "id": "xjCgLdUGSuwd",
        "colab": {
          "base_uri": "https://localhost:8080/"
        },
        "outputId": "d453c8fb-85c4-4262-e4d2-93e5b088fb87"
      },
      "outputs": [
        {
          "output_type": "stream",
          "name": "stdout",
          "text": [
            "Downloading data from https://storage.googleapis.com/tensorflow/tf-keras-datasets/train-labels-idx1-ubyte.gz\n",
            "32768/29515 [=================================] - 0s 0us/step\n",
            "40960/29515 [=========================================] - 0s 0us/step\n",
            "Downloading data from https://storage.googleapis.com/tensorflow/tf-keras-datasets/train-images-idx3-ubyte.gz\n",
            "26427392/26421880 [==============================] - 0s 0us/step\n",
            "26435584/26421880 [==============================] - 0s 0us/step\n",
            "Downloading data from https://storage.googleapis.com/tensorflow/tf-keras-datasets/t10k-labels-idx1-ubyte.gz\n",
            "16384/5148 [===============================================================================================] - 0s 0us/step\n",
            "Downloading data from https://storage.googleapis.com/tensorflow/tf-keras-datasets/t10k-images-idx3-ubyte.gz\n",
            "4423680/4422102 [==============================] - 0s 0us/step\n",
            "4431872/4422102 [==============================] - 0s 0us/step\n"
          ]
        }
      ],
      "source": [
        "(x_train, y_train), (x_test, y_test) = fashion_mnist.load_data()"
      ]
    },
    {
      "cell_type": "code",
      "execution_count": 8,
      "metadata": {
        "id": "UGd8jLf8TvDT",
        "colab": {
          "base_uri": "https://localhost:8080/",
          "height": 357
        },
        "outputId": "c6b70b8d-22f7-48d0-e559-5f0ab9b76de7"
      },
      "outputs": [
        {
          "output_type": "display_data",
          "data": {
            "image/png": "[encoded data removed]",
            "text/plain": [
              "<Figure size 864x432 with 10 Axes>"
            ]
          },
          "metadata": {
            "needs_background": "light"
          }
        }
      ],
      "source": [
        "num_classes = 10\n",
        "class_map = {0: \"T-shirt/top\", 1: \"Trouser\", 2: \"Pullover\", 3: \"Dress\", 4: \"Coat\", 5: \"Sandal\", 6: \"Shirt\", 7: \"Sneaker\", 8: \"Bag\", 9: \"Ankle boot\"}\n",
        "plt.figure(figsize=[12, 6])\n",
        "img_list = []\n",
        "class_list = []\n",
        "\n",
        "for i in range(num_classes):\n",
        "    position = np.argmax(y_train==i)\n",
        "    image = x_train[position,:,:]\n",
        "    plt.subplot(2, 5, i+1)\n",
        "    plt.imshow(image)\n",
        "    plt.title(class_map[i])\n",
        "    img_list.append(image)\n",
        "    class_list.append(class_map[i])\n",
        "    \n",
        "wandb.log({\"Question 1\": [wandb.Image(img, caption=caption) for img, caption in zip(img_list, class_list)]})"
      ]
    },
    {
      "cell_type": "markdown",
      "metadata": {
        "id": "Ni3O_BhnZaTS"
      },
      "source": [
        "# **Question 2 starts**"
      ]
    },
    {
      "cell_type": "code",
      "execution_count": 9,
      "metadata": {
        "colab": {
          "base_uri": "https://localhost:8080/"
        },
        "id": "qiVcaMR7V-sX",
        "outputId": "21f50632-ba1c-4eb2-d135-19583633bd67"
      },
      "outputs": [
        {
          "output_type": "execute_result",
          "data": {
            "text/plain": [
              "(60000, 28, 28)"
            ]
          },
          "metadata": {},
          "execution_count": 9
        }
      ],
      "source": [
        "x_train.shape"
      ]
    },
    {
      "cell_type": "code",
      "execution_count": 10,
      "metadata": {
        "colab": {
          "base_uri": "https://localhost:8080/"
        },
        "id": "DdGRoHZQgVVI",
        "outputId": "7a11cfd8-c64b-4b8b-e202-35b870454509"
      },
      "outputs": [
        {
          "output_type": "execute_result",
          "data": {
            "text/plain": [
              "(10000, 28, 28)"
            ]
          },
          "metadata": {},
          "execution_count": 10
        }
      ],
      "source": [
        "x_test.shape"
      ]
    },
    {
      "cell_type": "markdown",
      "metadata": {
        "id": "YKQrN4fNiuy4"
      },
      "source": [
        "Flatten each image into a 1-d array to input to the network"
      ]
    },
    {
      "cell_type": "code",
      "execution_count": 11,
      "metadata": {
        "id": "k5yzGo1ng9n1"
      },
      "outputs": [],
      "source": [
        "x_train = x_train.reshape(60000, 784)\n",
        "x_test = x_test.reshape(10000, 784)"
      ]
    },
    {
      "cell_type": "markdown",
      "metadata": {
        "id": "OIHk2sEwfOTr"
      },
      "source": [
        "Normalise the array to [0,1] interval"
      ]
    },
    {
      "cell_type": "code",
      "execution_count": 12,
      "metadata": {
        "id": "tGjhIWq1fUhf"
      },
      "outputs": [],
      "source": [
        "x_train = x_train / 255\n",
        "x_test = x_test / 255"
      ]
    },
    {
      "cell_type": "code",
      "execution_count": 13,
      "metadata": {
        "colab": {
          "base_uri": "https://localhost:8080/"
        },
        "id": "Kz62n2oYirjJ",
        "outputId": "2ad6f416-f0df-49b9-e599-c91f895dbd26"
      },
      "outputs": [
        {
          "output_type": "execute_result",
          "data": {
            "text/plain": [
              "(60000, 784)"
            ]
          },
          "metadata": {},
          "execution_count": 13
        }
      ],
      "source": [
        "x_train.shape"
      ]
    },
    {
      "cell_type": "code",
      "execution_count": 14,
      "metadata": {
        "colab": {
          "base_uri": "https://localhost:8080/"
        },
        "id": "kaK-eQ1litfw",
        "outputId": "566c8fbf-62b0-44f4-a6fd-2bcc892499dd"
      },
      "outputs": [
        {
          "output_type": "execute_result",
          "data": {
            "text/plain": [
              "(10000, 784)"
            ]
          },
          "metadata": {},
          "execution_count": 14
        }
      ],
      "source": [
        "x_test.shape"
      ]
    },
    {
      "cell_type": "markdown",
      "metadata": {
        "id": "lspua0Nui5xN"
      },
      "source": [
        "Categorical encoding for labels"
      ]
    },
    {
      "cell_type": "code",
      "execution_count": 15,
      "metadata": {
        "id": "pL7JqMSdhIos"
      },
      "outputs": [],
      "source": [
        "import tensorflow.keras as keras\n",
        "num_categories = 10\n",
        "\n",
        "y_train = keras.utils.to_categorical(y_train, num_categories)\n",
        "y_test = keras.utils.to_categorical(y_test, num_categories)"
      ]
    },
    {
      "cell_type": "code",
      "execution_count": 16,
      "metadata": {
        "colab": {
          "base_uri": "https://localhost:8080/"
        },
        "id": "PTD9Syza4m-M",
        "outputId": "9748c583-bdf9-4dc3-a57d-6c639190efa9"
      },
      "outputs": [
        {
          "output_type": "execute_result",
          "data": {
            "text/plain": [
              "(60000, 10)"
            ]
          },
          "metadata": {},
          "execution_count": 16
        }
      ],
      "source": [
        "y_train.shape"
      ]
    },
    {
      "cell_type": "code",
      "execution_count": 17,
      "metadata": {
        "colab": {
          "base_uri": "https://localhost:8080/"
        },
        "id": "40wZGQrf4pSd",
        "outputId": "4b368071-d334-4be8-f593-c4559367392a"
      },
      "outputs": [
        {
          "output_type": "execute_result",
          "data": {
            "text/plain": [
              "(10000, 10)"
            ]
          },
          "metadata": {},
          "execution_count": 17
        }
      ],
      "source": [
        "y_test.shape"
      ]
    },
    {
      "cell_type": "code",
      "execution_count": 18,
      "metadata": {
        "colab": {
          "base_uri": "https://localhost:8080/"
        },
        "id": "7zUtb8_A5IZG",
        "outputId": "4d80e9d9-9aee-4ac8-def5-f35b64c701ec"
      },
      "outputs": [
        {
          "output_type": "execute_result",
          "data": {
            "text/plain": [
              "array([0., 0., 0., 0., 0., 0., 0., 0., 0., 1.], dtype=float32)"
            ]
          },
          "metadata": {},
          "execution_count": 18
        }
      ],
      "source": [
        "y_train[0]"
      ]
    },
    {
      "cell_type": "code",
      "execution_count": 19,
      "metadata": {
        "id": "CEe2B3JRpLzW"
      },
      "outputs": [],
      "source": [
        "class Activation:\n",
        "    def computeSoftmaxGrad(self,H):\n",
        "      grad_softmax_jacobian = np.zeros(H.shape[0]*H.shape[0]).reshape(H.shape[0],H.shape[0])\n",
        "      for i in range(H.shape[0]):\n",
        "        for j in range(H.shape[0]):\n",
        "          if(i == j):\n",
        "            grad_softmax_jacobian[i][j] = H[i]*(1-H[j])\n",
        "          else:\n",
        "            grad_softmax_jacobian[i][j] = -H[i]*H[j]\n",
        "      return grad_softmax_jacobian\n",
        "  \n",
        "    def computeSigmoidGrad(self,H):\n",
        "      # print(\"Grad Sigmoid \",H)\n",
        "      # print(\"number of non-zeros in H:\",np.count_nonzero(H))\n",
        "      ret = H*(1-H)\n",
        "      # print(\"Ret \",ret)\n",
        "      # print(\"number of non-zeros in ret:\",np.count_nonzero(ret))\n",
        "      return ret \n",
        "\n",
        "    def computeTanhGrad(self,H):\n",
        "      ret = 1 - H**2\n",
        "      if(~(np.isfinite(ret).all())):\n",
        "        if(np.isnan(ret).any()):\n",
        "          print(\"$$$$$$$$$$$$$$$$$$$$$$$$$$$$$$$$$$$$$$$$$$$$$$$$$$$$$$$$$$$$$$$$$$$$$$$$$$$$$$$$$$$$$$$$$$$$$$$$$$$$$$$$$$$$$$$$$$$$$$$$$\")\n",
        "          print(\"Gradient Tanh ret\",ret)\n",
        "        ret = replaceNanWithMaxAndMin(ret)\n",
        "      return ret \n",
        "    \n",
        "    def computeReluGrad(self,A):\n",
        "       return 1.0 * (A > 0)\n",
        "\n",
        "    def sigmoid(self, X):\n",
        "      # print(\"Sigmoid\",X)\n",
        "      exp = np.exp(-X)\n",
        "      # print(\"Exp:\",exp)\n",
        "      if(~(np.isfinite(exp).all())):\n",
        "        if(np.isnan(exp).any()):\n",
        "          print(\"^^^^^^^^^^^^^^^^^^^^^^^^^^^^^^^^^^^^^^^^^^^^^^^^^^^^^^^^^^^^^^^^^^^^^^^^^^^^^^^^^^^^^^^^^^^^^^^^^^^^^^^^^^^^^^^^^^^^^^^^^\")\n",
        "          print(\"Sigmoid X\",X)\n",
        "          print(\"Sigmoid exp before\",exp)\n",
        "        exp = replaceNanWithMaxAndMin(exp)\n",
        "      \n",
        "      ret = 1.0 / (1.0 + exp)\n",
        "      # print(\"Ret sigmoid:\",ret)\n",
        "      return ret\n",
        "\n",
        "    def relu(self,X):\n",
        "      ret = np.maximum(0.0,X)\n",
        "      return ret\n",
        "    \n",
        "    def tanh(self,X):\n",
        "      ret = np.tanh(X)\n",
        "      if(~(np.isfinite(ret).all())):\n",
        "        if(np.isnan(ret).any()):\n",
        "          print(\"$$$$$$$$$$$$$$$$$$$$$$$$$$$$$$$$$$$$$$$$$$$$$$$$$$$$$$$$$$$$$$$$$$$$$$$$$$$$$$$$$$$$$$$$$$$$$$$$$$$$$$$$$$$$$$$$$$$$$$$$$\")\n",
        "          print(\"Tanh ret\",ret)\n",
        "        ret = replaceNanWithMaxAndMin(ret)\n",
        "      return ret\n",
        "\n",
        "    def softmax(self, X):\n",
        "      Z = X-max(X)\n",
        "      exps = np.exp(Z)\n",
        "      if(~(np.isfinite(exps).all())):\n",
        "        if(np.isnan(exps).any()):\n",
        "          print(\"$$$$$$$$$$$$$$$$$$$$$$$$$$$$$$$$$$$$$$$$$$$$$$$$$$$$$$$$$$$$$$$$$$$$$$$$$$$$$$$$$$$$$$$$$$$$$$$$$$$$$$$$$$$$$$$$$$$$$$$$$\")\n",
        "          print(\"softmax X\",X)\n",
        "          print(\"softmax exps\",exps)\n",
        "        exps = replaceNanWithMaxAndMin(exps)\n",
        "      \n",
        "      sum = np.sum(exps)\n",
        "      if(~(np.isfinite(sum).all())):\n",
        "        if(np.isnan(sum).any()):\n",
        "          print(\"$$$$$$$$$$$$$$$$$$$$$$$$$$$$$$$$$$$$$$$$$$$$$$$$$$$$$$$$$$$$$$$$$$$$$$$$$$$$$$$$$$$$$$$$$$$$$$$$$$$$$$$$$$$$$$$$$$$$$$$$$\")\n",
        "          print(\"softmax sum\",sum)\n",
        "        sum = replaceNanWithMaxAndMin(sum)\n",
        "\n",
        "      ret = exps / sum\n",
        "      if(~(np.isfinite(ret).all())):\n",
        "        if(np.isnan(ret).any()):\n",
        "          print(\"$$$$$$$$$$$$$$$$$$$$$$$$$$$$$$$$$$$$$$$$$$$$$$$$$$$$$$$$$$$$$$$$$$$$$$$$$$$$$$$$$$$$$$$$$$$$$$$$$$$$$$$$$$$$$$$$$$$$$$$$$\")\n",
        "          print(\"softmax exps\",exps)\n",
        "          print(\"softmax sum\",sum)\n",
        "          print(\"softmax ret\",ret)\n",
        "        ret = replaceNanWithMaxAndMin(ret)\n",
        "\n",
        "      if(~(np.isfinite(ret).all())):\n",
        "          print(\"$$$$$$$$$$$$$$$$$$$$$$$$$$$$$$$$$$$$$$$$$$$$$$$$$$$$$$$$$$$$$$$$$$$$$$$$$$$$$$$$$$$$$$$$$$$$$$$$$$$$$$$$$$$$$$$$$$$$$$$$$\")\n",
        "          print(\"$$$$$$$$$$$$$$$$$$$$$$$$$$$$$$$$$$$$$$$$$$$$$$$$$$$$$$$$$$$$$$$$$$$$$$$$$$$$$$$$$$$$$$$$$$$$$$$$$$$$$$$$$$$$$$$$$$$$$$$$$\")\n",
        "          print(\"$$$$$$$$$$$$$$$$$$$$$$$$$$$$$$$$$$$$$$$$$$$$$$$$$$$$$$$$$$$$$$$$$$$$$$$$$$$$$$$$$$$$$$$$$$$$$$$$$$$$$$$$$$$$$$$$$$$$$$$$$\")\n",
        "          print(\"softmax X\",X)\n",
        "          print(\"softmax np.sum(exps)\",np.sum(exps))\n",
        "          print(\"softmax exps\",exps)\n",
        "      return ret"
      ]
    },
    {
      "cell_type": "code",
      "execution_count": 20,
      "metadata": {
        "id": "nAKowVdj8BWb"
      },
      "outputs": [],
      "source": [
        "def replaceNanWithMaxAndMin(X):\n",
        "    if(np.isscalar(X)):\n",
        "      if(X == float(\"inf\")):\n",
        "          X = 1e+306\n",
        "      elif(X == float(\"-inf\")):\n",
        "          X = 1e-306\n",
        "      else:\n",
        "        X = 1e-306\n",
        "    else:\n",
        "      if(~(np.isfinite(X).all())):\n",
        "        nan_indices = np.argwhere(~(np.isfinite(X))).flatten()\n",
        "        # print(\"nan_indices\",nan_indices)\n",
        "        for ind in nan_indices:\n",
        "          # print(\"Ind\",ind)\n",
        "          # print(\"X[ind]\",X[ind])\n",
        "          if(X[ind] == float(\"inf\")):\n",
        "            X[ind] = 1e+306\n",
        "          elif(X[ind] == float(\"-inf\")):\n",
        "            X[ind] = 1e-306\n",
        "          else:\n",
        "            X[ind] = 1e-306\n",
        "    return X\n",
        "      "
      ]
    },
    {
      "cell_type": "code",
      "execution_count": 21,
      "metadata": {
        "id": "kqlkEUzksmv6"
      },
      "outputs": [],
      "source": [
        "class InputLayer:\n",
        "  number_of_inputs=0\n",
        "\n",
        "  def __init__(self,number_of_inputs) -> None:\n",
        "      self.number_of_inputs = number_of_inputs"
      ]
    },
    {
      "cell_type": "code",
      "execution_count": 22,
      "metadata": {
        "id": "Z0JrCQg4qdnn"
      },
      "outputs": [],
      "source": [
        "class Layer:\n",
        "  number_of_neurons=0\n",
        "  activation = 'sigmoid'\n",
        "  # Weight intialization before layer to which current layer is defined(hence invalid on input layer)\n",
        "  weight_initialization= None\n",
        "  \n",
        "  def __init__(self,number_of_neurons,activation) -> None:\n",
        "      self.number_of_neurons = number_of_neurons\n",
        "      self.activation = activation\n",
        "      self.weight_initialization= None"
      ]
    },
    {
      "cell_type": "code",
      "execution_count": 23,
      "metadata": {
        "id": "XixX3-jvynpL"
      },
      "outputs": [],
      "source": [
        "def xavierWeightInitialisation(num_previous_layer,num_next_layer): \n",
        "  # calculate the range for the weights\n",
        "  lower, upper = -(math.sqrt(6.0) / math.sqrt(num_previous_layer + num_next_layer)), (math.sqrt(6.0) / math.sqrt(num_previous_layer + num_next_layer))\n",
        "  # generate random numbers\n",
        "  numbers = np.random.rand(num_previous_layer,num_next_layer)\n",
        "  # scale to the desired range\n",
        "  scaled = lower + numbers * (upper - lower)\n",
        "  return scaled\n",
        "\n",
        "def standardNormalInitialisation(num_previous_layer,num_next_layer): \n",
        "  return np.random.normal(size=(num_previous_layer,num_next_layer))"
      ]
    },
    {
      "cell_type": "code",
      "execution_count": 24,
      "metadata": {
        "id": "4TKfIP47ijGu"
      },
      "outputs": [],
      "source": [
        "class ANNModel:\n",
        "  def __init__(self):\n",
        "    self.layers = []\n",
        "\n",
        "  def addInputLayer(self,input_layer_obj):\n",
        "    self.input_layer_obj = input_layer_obj\n",
        "  \n",
        "  def addLayer(self,layer_obj):\n",
        "    self.layers.append(layer_obj)\n",
        "  \n",
        "  def compile(self,loss,weight_init='stdnormal'):\n",
        "    self.loss = loss\n",
        "    self.randInitWeights(weight_init)\n",
        "    self.randInitBiases()\n",
        "    self.initAH()\n",
        "    self.array_grad_L_by_A = [None]*(len(self.layers))\n",
        "    self.array_grad_L_by_weight = [None]*(len(self.layers))\n",
        "    self.array_grad_L_by_bias = [None]*(len(self.layers))\n",
        "    self.array_grad_L_by_H = [None]*(len(self.layers))\n",
        "    \n",
        "  def initAH(self):\n",
        "    self.A = []\n",
        "    for l in range(len(self.layers)):\n",
        "      self.A.append(np.zeros(self.layers[l].number_of_neurons))\n",
        "    \n",
        "    self.H = []\n",
        "    self.H.append(np.zeros(self.input_layer_obj.number_of_inputs))\n",
        "    for l in range(1,len(self.layers)+1):\n",
        "      self.H.append(np.zeros(self.layers[l-1].number_of_neurons))\n",
        "    \n",
        "    # print(self.A)\n",
        "    # print(self.H)\n",
        "\n",
        "  def randWeightEachLayer(self,weight_init,num_previous_layer,num_next_layer):\n",
        "    if(weight_init == 'stdnormal'):\n",
        "      return standardNormalInitialisation(num_previous_layer,num_next_layer)\n",
        "    elif(weight_init == 'xavier'):\n",
        "      return xavierWeightInitialisation(num_previous_layer,num_next_layer)\n",
        "\n",
        "  def randInitWeights(self,weight_init_overall):\n",
        "    current_layer_weight_init = weight_init_overall\n",
        "    if(not (self.layers[0].weight_initialization is None)):\n",
        "      current_layer_weight_init = self.layers[0].weight_initialization\n",
        "    self.weight_array=[self.randWeightEachLayer(current_layer_weight_init,self.input_layer_obj.number_of_inputs,self.layers[0].number_of_neurons)]\n",
        "    print(\"Weight init [0]:\",current_layer_weight_init)\n",
        "    \n",
        "    for l in range(1,len(self.layers)):\n",
        "      current_layer_weight_init = weight_init_overall\n",
        "      if(not (self.layers[l].weight_initialization is None)):\n",
        "        current_layer_weight_init = self.layers[l].weight_initialization\n",
        "      \n",
        "      print(\"Weight init [\",l,\" ]:\",current_layer_weight_init)\n",
        "      self.weight_array.append(self.randWeightEachLayer(current_layer_weight_init,self.layers[l-1].number_of_neurons,self.layers[l].number_of_neurons))\n",
        "      \n",
        "\n",
        "  def randInitBiases(self):\n",
        "    self.bias = []\n",
        "    for l in range(len(self.layers)):\n",
        "      self.bias.append(np.zeros(self.layers[l].number_of_neurons))\n",
        "      # print(self.bias)\n",
        "      # print(self.bias[l].shape)\n",
        "\n",
        "  def predict(self,x_test):\n",
        "    y_pred = [None]*x_test.shape[0]\n",
        "    for index in range(x_test.shape[0]):\n",
        "      y_pred[index] = self.feed_forward(x_test[index])\n",
        "    y_pred = np.asarray(y_pred)\n",
        "    return y_pred\n",
        "  \n",
        "  def initializeOptimizerStructures(self,optimizer='vanilla'):\n",
        "    if(optimizer == 'momentum' or optimizer =='rmsprop'):\n",
        "      self.prev_weight_update=[np.zeros((self.input_layer_obj.number_of_inputs,self.layers[0].number_of_neurons))]\n",
        "      for l in range(1,len(self.layers)):\n",
        "        self.prev_weight_update.append(np.zeros((self.layers[l-1].number_of_neurons,self.layers[l].number_of_neurons)))\n",
        "      \n",
        "      self.prev_bias_update = []\n",
        "      for l in range(len(self.layers)):\n",
        "       self.prev_bias_update.append(np.zeros(self.layers[l].number_of_neurons))\n",
        "    elif(optimizer == 'nesterov'):\n",
        "      self.prev_weight_update=[np.zeros((self.input_layer_obj.number_of_inputs,self.layers[0].number_of_neurons))]\n",
        "      self.rollback_weight_update=[np.zeros((self.input_layer_obj.number_of_inputs,self.layers[0].number_of_neurons))]\n",
        "      for l in range(1,len(self.layers)):\n",
        "        self.prev_weight_update.append(np.zeros((self.layers[l-1].number_of_neurons,self.layers[l].number_of_neurons)))\n",
        "        self.rollback_weight_update.append(np.zeros((self.layers[l-1].number_of_neurons,self.layers[l].number_of_neurons)))\n",
        "      \n",
        "      self.prev_bias_update = []\n",
        "      self.rollback_bias_update = []\n",
        "      for l in range(len(self.layers)):\n",
        "       self.prev_bias_update.append(np.zeros(self.layers[l].number_of_neurons))\n",
        "       self.rollback_bias_update.append(np.zeros(self.layers[l].number_of_neurons))\n",
        "    \n",
        "    elif(optimizer == 'adam' or optimizer == 'nadam'):\n",
        "      self.m_w=[np.zeros((self.input_layer_obj.number_of_inputs,self.layers[0].number_of_neurons))]\n",
        "      self.v_w=[np.zeros((self.input_layer_obj.number_of_inputs,self.layers[0].number_of_neurons))]\n",
        "      self.m_w_hat=[np.zeros((self.input_layer_obj.number_of_inputs,self.layers[0].number_of_neurons))]\n",
        "      self.v_w_hat=[np.zeros((self.input_layer_obj.number_of_inputs,self.layers[0].number_of_neurons))]\n",
        "      for l in range(1,len(self.layers)):\n",
        "        self.m_w.append(np.zeros((self.layers[l-1].number_of_neurons,self.layers[l].number_of_neurons)))\n",
        "        self.v_w.append(np.zeros((self.layers[l-1].number_of_neurons,self.layers[l].number_of_neurons)))\n",
        "        self.m_w_hat.append(np.zeros((self.layers[l-1].number_of_neurons,self.layers[l].number_of_neurons)))\n",
        "        self.v_w_hat.append(np.zeros((self.layers[l-1].number_of_neurons,self.layers[l].number_of_neurons)))\n",
        "      \n",
        "      self.m_b = []\n",
        "      self.v_b = []\n",
        "      self.m_b_hat = []\n",
        "      self.v_b_hat = []\n",
        "      for l in range(len(self.layers)):\n",
        "       self.m_b.append(np.zeros(self.layers[l].number_of_neurons))\n",
        "       self.v_b.append(np.zeros(self.layers[l].number_of_neurons))\n",
        "       self.m_b_hat.append(np.zeros(self.layers[l].number_of_neurons))\n",
        "       self.v_b_hat.append(np.zeros(self.layers[l].number_of_neurons))\n",
        "      \n",
        "      self.update_count = 0\n",
        "  \n",
        "  def resetAccumulatedWeightsAndBiases(self):\n",
        "    self.accumulated_array_grad_L_by_weight=[np.zeros((self.input_layer_obj.number_of_inputs,self.layers[0].number_of_neurons))]\n",
        "    for l in range(1,len(self.layers)):\n",
        "      self.accumulated_array_grad_L_by_weight.append(np.zeros((self.layers[l-1].number_of_neurons,self.layers[l].number_of_neurons)))\n",
        "    self.accumulated_array_grad_L_by_bias = []\n",
        "    for l in range(len(self.layers)):\n",
        "      self.accumulated_array_grad_L_by_bias.append(np.random.rand(self.layers[l].number_of_neurons))\n",
        "  \n",
        "  # x_valid and y_valid is used only to just check test accuracy during each epoch. It is strictly not part of training\n",
        "  def train(self,config,x_train,y_train,epochs,optimizer='vanilla',learning_rate=1,verbose=1,batch_size=10,l2_weight_decay=None,x_valid=None,y_valid=None):\n",
        "    self.config = config\n",
        "    if(l2_weight_decay is None):\n",
        "      self.l2_weight_decay = 0\n",
        "    else:\n",
        "      self.l2_weight_decay = l2_weight_decay\n",
        "\n",
        "    self.resetAccumulatedWeightsAndBiases()\n",
        "    num_points_seen = 0\n",
        "    self.initializeOptimizerStructures(optimizer)\n",
        "    self.verbose=verbose\n",
        "    if(self.verbose >= 4):\n",
        "      self.print_state()\n",
        "    for current_epoch in range(epochs):\n",
        "      self.current_epoch = current_epoch\n",
        "      if(self.verbose >=2):\n",
        "        print(\"\\n &&&&&&&&&&&&&&&&&&&&  Epoch \",current_epoch,\" &&&&&&&&&&&&&&&&&&&&&&&&\")\n",
        "      sum_of_loss = 0\n",
        "      sum_of_loss_in_current_step = 0\n",
        "      self.step_count = 0\n",
        "      # for index in tqdm(range(10)):\n",
        "      for index in tqdm(range(x_train.shape[0])):\n",
        "        if(self.verbose >= 3):\n",
        "          print(\"Data point number:\",index)\n",
        "        y_pred = self.feed_forward(x_train[index])\n",
        "        self.back_prop(y_pred,y_train[index])\n",
        "        if (optimizer == 'nesterov'):\n",
        "          gamma = 0.9\n",
        "          # First backup current parameters(to reset and continue training later)\n",
        "          for l in range(len(self.layers)):\n",
        "            self.rollback_weight_update[l] = self.weight_array[l]\n",
        "            self.rollback_bias_update[l] = self.bias[l]\n",
        "          # Set lookahead parameters into network\n",
        "          for l in range(len(self.layers)):\n",
        "            self.weight_array[l] = self.weight_array[l] - (gamma)*self.prev_weight_update[l]\n",
        "            self.bias[l]=self.bias[l] - (gamma)*self.prev_bias_update[l]\n",
        "          #Feed forward with lookahead parameters\n",
        "          y_pred = self.feed_forward(x_train[index])\n",
        "          #Back propogate to get the grad_L_byW_lookahead\n",
        "          self.back_prop(y_pred,y_train[index])\n",
        "          #Accumulate grad_L_by_W_lookahead\n",
        "          for l in range(len(self.layers)):\n",
        "            self.accumulated_array_grad_L_by_weight[l] = self.accumulated_array_grad_L_by_weight[l] + self.array_grad_L_by_weight[l]\n",
        "            self.accumulated_array_grad_L_by_bias[l] = self.accumulated_array_grad_L_by_bias[l] + self.array_grad_L_by_bias[l]\n",
        "          #Use previous backup to roll back parameters\n",
        "          for l in range(len(self.layers)):\n",
        "            self.weight_array[l] = self.rollback_weight_update[l]\n",
        "            self.bias[l] = self.rollback_bias_update[l]\n",
        "        else:\n",
        "          for l in range(len(self.layers)):\n",
        "            self.accumulated_array_grad_L_by_weight[l] = self.accumulated_array_grad_L_by_weight[l] + self.array_grad_L_by_weight[l]\n",
        "            self.accumulated_array_grad_L_by_bias[l] = self.accumulated_array_grad_L_by_bias[l] + self.array_grad_L_by_bias[l]\n",
        "        \n",
        "        num_points_seen = num_points_seen + 1\n",
        "        \n",
        "        if(self.verbose >= 3):\n",
        "          print(\"Predicted output:\",y_pred)\n",
        "          print(\"Actual output:\",y_train[index])\n",
        "        current_loss = computeLoss(y_pred,y_train[index],self.loss)\n",
        "        sum_of_loss = sum_of_loss + current_loss\n",
        "        sum_of_loss_in_current_step += current_loss\n",
        "        if(self.verbose >= 4):\n",
        "          self.print_state()\n",
        "        if(self.verbose >= 3):\n",
        "          print(\"Loss:\",current_loss)\n",
        "        \n",
        "        if(num_points_seen % batch_size == 0 or num_points_seen == x_train.shape[0]):\n",
        "          self.step_count += 1\n",
        "          avg_loss_in_current_step = sum_of_loss_in_current_step/batch_size\n",
        "          if(not(self.config is None)):\n",
        "            wandb.log({\"avg_loss_on_current_step\": avg_loss_in_current_step,\"step\":self.step_count})\n",
        "          self.updateParameters(optimizer,learning_rate)\n",
        "          self.resetAccumulatedWeightsAndBiases()\n",
        "          sum_of_loss_in_current_step = 0\n",
        "      \n",
        "      avg_loss = sum_of_loss/x_train.shape[0]\n",
        "      if(not(self.config is None)):\n",
        "        wandb.log({\"avg_loss_on_current_epoch\": avg_loss,\"epoch\":self.current_epoch})\n",
        "      if(self.verbose >= 2):\n",
        "        print(\"Average \",self.loss, \" loss: \",avg_loss)\n",
        "        self.showTrainAndTestAccuracyPostTraining(x_train,y_train,x_valid,y_valid)\n",
        "  \n",
        "  def showTrainAndTestAccuracyPostTraining(self,x_train,y_train,x_valid,y_valid):\n",
        "    y_pred_train = self.predict(x_train)\n",
        "    train_accuracy = calculateClassificationAccuracy(y_pred_train,y_train)\n",
        "    print(\"Train accuracy \",train_accuracy)\n",
        "    if(not(self.config is None)):\n",
        "      wandb.log({\"train_accuracy_on_current_epoch\": train_accuracy,\"epoch\":self.current_epoch})\n",
        "    if(not(x_valid is None or y_valid is None)):\n",
        "      y_pred_test = self.predict(x_valid)\n",
        "      test_accuracy = calculateClassificationAccuracy(y_pred_test,y_valid)\n",
        "      print(\"Validation accuracy \",test_accuracy)\n",
        "      if(not(self.config is None)):\n",
        "        wandb.log({\"valid_accuracy_on_current_epoch\": test_accuracy,\"epoch\":self.current_epoch})\n",
        "\n",
        "  def updateParameters(self,optimizer='vanilla',learning_rate=1):\n",
        "    for l in range(len(self.layers)):\n",
        "      allzeros = not np.any(self.accumulated_array_grad_L_by_weight[l])\n",
        "      if(allzeros == True):\n",
        "        # self.verbose=4.5\n",
        "        print(\"Weight update zero %%%%%%%%%%%%%%%%%%%%%%%%%%%%%%%%%%%%%%%%%%%%%%%%%%%%%%%%%%%%%%%%%%%%%%%%%%%%%%%%%%%%%%%%%%%%%%%%%%%%%%%%%%%%%%%%%%%%%%%\")\n",
        "        print(\"self.accumulated_array_grad_L_by_weight[\",l,\"]:\",self.accumulated_array_grad_L_by_weight[l])\n",
        "\n",
        "    \n",
        "    if(optimizer == 'vanilla'):\n",
        "      for l in range(len(self.layers)):\n",
        "        self.weight_array[l] = self.weight_array[l] - (learning_rate)*self.accumulated_array_grad_L_by_weight[l]\n",
        "        self.bias[l]=(self.bias[l] - (learning_rate)*self.accumulated_array_grad_L_by_bias[l])[0]\n",
        "    \n",
        "    elif(optimizer == 'nesterov'):\n",
        "      gamma = 0.9\n",
        "\n",
        "      for l in range(len(self.layers)):\n",
        "        self.prev_weight_update[l] = gamma * self.prev_weight_update[l] + (learning_rate)* self.accumulated_array_grad_L_by_weight[l]\n",
        "        self.prev_bias_update[l] = (gamma * self.prev_bias_update[l] + (learning_rate)* self.accumulated_array_grad_L_by_bias[l])[0]  \n",
        "        self.weight_array[l] = self.weight_array[l] - self.prev_weight_update[l]\n",
        "        self.bias[l]=self.bias[l] - self.prev_bias_update[l]\n",
        "    \n",
        "    elif(optimizer == 'momentum'):\n",
        "      gamma = 0.9\n",
        "\n",
        "      for l in range(len(self.layers)):\n",
        "        self.prev_weight_update[l] = gamma * self.prev_weight_update[l] + (learning_rate)* (self.accumulated_array_grad_L_by_weight[l]+ 2 * self.l2_weight_decay * self.weight_array[l])\n",
        "        self.prev_bias_update[l] = (gamma * self.prev_bias_update[l] + (learning_rate)* (self.accumulated_array_grad_L_by_bias[l] + 2 * self.l2_weight_decay * self.bias[l] ))[0]  \n",
        "        self.weight_array[l] = self.weight_array[l] - self.prev_weight_update[l]\n",
        "        self.bias[l]=self.bias[l] - self.prev_bias_update[l]\n",
        "    \n",
        "    elif(optimizer == 'rmsprop'):\n",
        "      eps,beta1 = 1e-10,0.9\n",
        "\n",
        "      for l in range(len(self.layers)):\n",
        "        self.prev_weight_update[l] = beta1 * self.prev_weight_update[l] + (1 - beta1)* (self.accumulated_array_grad_L_by_weight[l] * self.accumulated_array_grad_L_by_weight[l])\n",
        "        # print(\"self.prev_weight_update[l]\",self.prev_weight_update[l])\n",
        "        self.prev_bias_update[l] = (beta1 * self.prev_bias_update[l] + (1 - beta1)* (self.accumulated_array_grad_L_by_bias[l]*self.accumulated_array_grad_L_by_bias[l]))[0]  \n",
        "        # print(\"self.prev_bias_update[l]\",self.prev_bias_update[l])\n",
        "        self.weight_array[l] = self.weight_array[l] - (learning_rate/np.sqrt(self.prev_weight_update[l] + eps)) * self.accumulated_array_grad_L_by_weight[l]\n",
        "        # print(\"self.weight_array[l]\",self.weight_array[l])\n",
        "        self.bias[l] = self.bias[l] - ((learning_rate / np.sqrt(self.prev_bias_update[l] + eps)) * self.accumulated_array_grad_L_by_bias[l])[0]\n",
        "        # print(\"self.bias[l]\",self.bias[l])\n",
        "        # print(\"self.bias[l] shape\",self.bias[l].shape)\n",
        "    \n",
        "    elif(optimizer == 'adam'):\n",
        "      eps,beta1,beta2 = 1e-8,0.9,0.999\n",
        "\n",
        "      self.m_w[l] = beta1 * self.m_w[l] + (1 - beta1)* self.accumulated_array_grad_L_by_weight[l]\n",
        "      self.m_b[l] = (beta1 * self.m_b[l] + (1 - beta1)* self.accumulated_array_grad_L_by_bias[l])[0]  \n",
        "\n",
        "      self.v_w[l] = beta2 * self.v_w[l] + (1 - beta2)* (self.accumulated_array_grad_L_by_weight[l] * self.accumulated_array_grad_L_by_weight[l])\n",
        "      self.v_b[l] = (beta2 * self.v_b[l] + (1 - beta2)* (self.accumulated_array_grad_L_by_bias[l]*self.accumulated_array_grad_L_by_bias[l]))[0]\n",
        "\n",
        "      self.m_w_hat[l] = self.m_w[l]/(1- math.pow(beta1,self.update_count + 1))\n",
        "      self.m_b_hat[l] = self.m_b[l] / (1-math.pow(beta1,self.update_count + 1))\n",
        "\n",
        "      self.v_w_hat[l] = self.v_w[l]/(1- math.pow(beta2,self.update_count + 1))\n",
        "      self.v_b_hat[l] = self.v_b[l] / (1-math.pow(beta2,self.update_count + 1))\n",
        "\n",
        "      self.weight_array[l] = self.weight_array[l] - (learning_rate/np.sqrt(self.v_w_hat[l] + eps)) * self.m_w_hat[l]\n",
        "      # print(\"self.weight_array[l]\",self.weight_array[l])\n",
        "      self.bias[l] = self.bias[l] - ((learning_rate / np.sqrt(self.v_b_hat[l] + eps)) * self.m_b_hat[l])[0]\n",
        "\n",
        "      self.update_count = self.update_count + 1\n",
        "    elif(optimizer == 'nadam'):\n",
        "      eps,beta1,beta2 = 1e-8,0.9,0.999\n",
        "\n",
        "      self.m_w[l] = beta1 * self.m_w[l] + (1 - beta1)* self.accumulated_array_grad_L_by_weight[l]\n",
        "      self.m_b[l] = (beta1 * self.m_b[l] + (1 - beta1)* self.accumulated_array_grad_L_by_bias[l])[0]  \n",
        "\n",
        "      self.v_w[l] = beta2 * self.v_w[l] + (1 - beta2)* (self.accumulated_array_grad_L_by_weight[l] * self.accumulated_array_grad_L_by_weight[l])\n",
        "      self.v_b[l] = (beta2 * self.v_b[l] + (1 - beta2)* (self.accumulated_array_grad_L_by_bias[l]*self.accumulated_array_grad_L_by_bias[l]))[0]\n",
        "\n",
        "      self.m_w_hat[l] = self.m_w[l]/(1- math.pow(beta1,self.update_count + 1))\n",
        "      self.m_b_hat[l] = self.m_b[l] / (1-math.pow(beta1,self.update_count + 1))\n",
        "\n",
        "      self.v_w_hat[l] = self.v_w[l]/(1- math.pow(beta2,self.update_count + 1))\n",
        "      self.v_b_hat[l] = self.v_b[l] / (1-math.pow(beta2,self.update_count + 1))\n",
        "\n",
        "      self.weight_array[l] = self.weight_array[l] - (learning_rate/np.sqrt(self.v_w_hat[l] + eps)) * (beta1*self.m_w_hat[l] + (((1-beta1)/(1-math.pow(beta1,self.update_count + 1)))* self.accumulated_array_grad_L_by_weight[l]))\n",
        "      # print(\"self.weight_array[l]\",self.weight_array[l])\n",
        "      self.bias[l] = self.bias[l] - ((learning_rate / np.sqrt(self.v_b_hat[l] + eps)) * (beta1*self.m_b_hat[l] + (((1-beta1)/(1-math.pow(beta1,self.update_count + 1)))* self.accumulated_array_grad_L_by_bias[l])))[0]\n",
        "\n",
        "      self.update_count = self.update_count + 1\n",
        "    \n",
        "    else:\n",
        "      pass\n",
        "\n",
        "\n",
        "  def feed_forward(self,inpX):\n",
        "    self.H[0]= inpX\n",
        "    for l in range(len(self.layers)):\n",
        "      self.A[l]=np.matmul(self.H[l],self.weight_array[l]) + self.bias[l]\n",
        "      self.H[l+1] = calculateActivation(self.layers[l].activation,self.A[l])\n",
        "    return self.H[len(self.layers)]\n",
        "  \n",
        "  def back_prop(self,y_pred,y_train):\n",
        "    if(self.verbose >= 5):\n",
        "      print(\"Back prop starts ===========================\")\n",
        "    self.grad_L_by_ypred = self.computeLossGradient(y_pred,y_train,self.loss)\n",
        "    self.grad_ypred_by_Aoutput = computeGradientHwrtA(y_pred,self.A[len(self.layers)-1],self.layers[len(self.layers)-1].activation)\n",
        "    if(len(self.grad_ypred_by_Aoutput.shape)==2):\n",
        "      self.array_grad_L_by_A[len(self.layers)-1]=np.matmul(self.grad_L_by_ypred,self.grad_ypred_by_Aoutput)\n",
        "    else:\n",
        "      self.array_grad_L_by_A[len(self.layers)-1]=np.multiply(self.grad_L_by_ypred,self.grad_ypred_by_Aoutput)\n",
        "    \n",
        "    for l in reversed(range(len(self.layers))):\n",
        "      current_H=self.H[l]\n",
        "      current_H=current_H[np.newaxis].T\n",
        "      if(self.verbose >= 5):\n",
        "        print(\"current_H:[\",l,\"]:\",current_H.T)\n",
        "        print(\"current_H shape:[\",l,\"]:\",current_H.shape)\n",
        "      current_grad_L_by_A = self.array_grad_L_by_A[l]\n",
        "      if(len(current_grad_L_by_A.shape)==1):\n",
        "        current_grad_L_by_A = current_grad_L_by_A[np.newaxis]\n",
        "      \n",
        "      if(self.verbose >= 5):\n",
        "        print(\"current_grad_L_by_A[\",l,\" ]:\",current_grad_L_by_A)\n",
        "        print(\"current_grad_L_by_A[\",l,\" ] shape:\",current_grad_L_by_A.shape)\n",
        "      \n",
        "      self.array_grad_L_by_weight[l]=np.matmul(current_H,current_grad_L_by_A)\n",
        "      \n",
        "      # allzeros = not np.any(self.array_grad_L_by_weight[l])\n",
        "      # if(allzeros == True):\n",
        "      #   # self.verbose=4.5\n",
        "      #   print(\"Weight update zero **************************************************************************************\")\n",
        "      \n",
        "      # if(self.verbose >= 5):\n",
        "      #   print(\"self.array_grad_L_by_weight[\",l,\"]:\",self.array_grad_L_by_weight[l])\n",
        "      #   print(\"number of non-zeros in weight gradient:\",np.count_nonzero(self.array_grad_L_by_weight[l]))\n",
        "\n",
        "      \n",
        "      self.array_grad_L_by_bias[l] = current_grad_L_by_A\n",
        "      \n",
        "      if(self.verbose >= 5):\n",
        "        print(\"self.array_grad_L_by_bias[\",l,\"]:\",self.array_grad_L_by_bias[l])\n",
        "      \n",
        "      self.array_grad_L_by_H[l] = np.matmul(self.weight_array[l],current_grad_L_by_A.T)\n",
        "      \n",
        "      # if(self.verbose >= 5):\n",
        "      #   print(\"self.array_grad_L_by_H[\",l,\"]:\",self.array_grad_L_by_H[l].T)\n",
        "      \n",
        "      if(l >= 1):\n",
        "        current_grad_H_by_A = computeGradientHwrtA(self.H[l],self.A[l-1],self.layers[l-1].activation)\n",
        "        current_grad_H_by_A = current_grad_H_by_A[np.newaxis]\n",
        "        if(self.verbose >= 5):\n",
        "          print(\"current_grad_H_by_A[\",l,\"]:\",current_grad_H_by_A)\n",
        "        self.array_grad_L_by_A[l-1] = np.multiply(self.array_grad_L_by_H[l].T,current_grad_H_by_A)\n",
        "        if(self.verbose >= 5):\n",
        "          print(\"self.array_grad_L_by_A[\",(l-1),\"]:\",self.array_grad_L_by_A[l-1])\n",
        "\n",
        "  def computeLossGradient(self,y_pred,y_actual,loss):\n",
        "    grad_L_y = np.zeros(len(y_pred))\n",
        "    if(loss=='categorical_crossentropy'):\n",
        "      # This small epsilon is needed to avoid 1/0=inf\n",
        "      epsilon = 1e-300\n",
        "      # To hold label index from y_actual\n",
        "      correct_index=findLabelIndex(y_actual)\n",
        "      grad_L_y[correct_index] = -1/(np.maximum(y_pred[correct_index],epsilon))\n",
        "\n",
        "    if(loss=='Mean_Square_loss'):\n",
        "        grad_L_y = 2*(y_pred-y_actual)/len(y_pred)\n",
        "\n",
        "    return grad_L_y\n",
        "\n",
        "\n",
        "  def print_state(self):\n",
        "    for l in range(len(self.layers)):\n",
        "      print(\"Layer\",l)\n",
        "      print(\"============================\")\n",
        "      print(\"Activation:\",self.layers[l].activation)\n",
        "      print(\"Number of units:\",self.layers[l].number_of_neurons)\n",
        "      print(\"Weights\",self.weight_array[l])\n",
        "      print(\"Biases\",self.bias[l])\n",
        "      # print(\"H's [ \",l,\" ]:\",self.H[l])\n",
        "      print(\"A's\",self.A[l])\n",
        "      print(\"**************************\")"
      ]
    },
    {
      "cell_type": "code",
      "execution_count": 25,
      "metadata": {
        "id": "2Y_VeP9ORLR2"
      },
      "outputs": [],
      "source": [
        "def calculateClassificationAccuracy(y_pred,y_actual):\n",
        "  total_samples = y_pred.shape[0]\n",
        "  correctly_classified_count = 0.0\n",
        "  for it in range(y_pred.shape[0]):\n",
        "    classification_index = np.argmax(y_pred[it])\n",
        "    if(y_actual[it][classification_index]== 1):\n",
        "      correctly_classified_count= correctly_classified_count + 1\n",
        "  accuracy = correctly_classified_count/total_samples\n",
        "  print(\"Correctly classified:\",correctly_classified_count)\n",
        "  print(\"total_samples:\",total_samples)\n",
        "  return accuracy\n"
      ]
    },
    {
      "cell_type": "code",
      "execution_count": 26,
      "metadata": {
        "id": "dQCCHurOcfBE"
      },
      "outputs": [],
      "source": [
        "def calculateClassificationLoss(y_pred,y_actual,loss='categorical_crossentropy'):\n",
        "  total_samples = y_pred.shape[0]\n",
        "  sum_loss = 0.0\n",
        "  for it in range(y_pred.shape[0]):\n",
        "    current_loss = computeLoss(y_pred[it],y_actual[it],loss)\n",
        "    sum_loss = sum_loss + current_loss\n",
        "  avg_loss = sum_loss/total_samples\n",
        "  return avg_loss"
      ]
    },
    {
      "cell_type": "code",
      "execution_count": 27,
      "metadata": {
        "id": "J-Eyf5NShTFT"
      },
      "outputs": [],
      "source": [
        "def calculateActivation(activation,A):\n",
        "  if(activation =='sigmoid'):\n",
        "    return Activation().sigmoid(A)\n",
        "  elif(activation == 'softmax'):\n",
        "    return Activation().softmax(A)\n",
        "  elif(activation == 'tanh'):\n",
        "    return Activation().tanh(A)\n",
        "  elif(activation == 'relu'):\n",
        "    return Activation().relu(A)\n",
        "  else:\n",
        "    print(\"Invalid activation function\")\n",
        "\n",
        "def computeLoss(y_pred,y_actual,loss):\n",
        "  loss_value=0\n",
        "  if(loss=='categorical_crossentropy'):\n",
        "    # This small epsilon is needed to avoid log(0)=undefined\n",
        "    epsilon = 1e-300\n",
        "    # To hold label index from y_actual\n",
        "    correct_index=findLabelIndex(y_actual)\n",
        "    loss_value = -math.log(np.maximum(y_pred[correct_index],epsilon),2)\n",
        "    # loss_value = -np.log2(((y_pred[correct_index])+epsilon))\n",
        "  if(loss=='Mean_Square_loss'):\n",
        "    loss_value = np.sum((y_pred-y_actual)**2)/len(y_actual)\n",
        "\n",
        "  return loss_value\n",
        "\n",
        "def findLabelIndex(y_actual):\n",
        "  for j in range(len(y_actual)):\n",
        "    if(y_actual[j]==1):\n",
        "      return j\n",
        "\n",
        "def computeGradientHwrtA(H,A,activation):\n",
        "  grad_H_by_A = []\n",
        "  # Gradient is a kxk jacobian\n",
        "  if(activation == 'softmax'):\n",
        "    grad_H_by_A = Activation().computeSoftmaxGrad(H)\n",
        "  elif(activation == 'sigmoid'):\n",
        "    grad_H_by_A = Activation().computeSigmoidGrad(H)\n",
        "  elif(activation == 'tanh'):\n",
        "    grad_H_by_A = Activation().computeTanhGrad(H)\n",
        "  elif(activation == 'relu'):\n",
        "    grad_H_by_A = Activation().computeReluGrad(H)\n",
        "  return grad_H_by_A\n"
      ]
    },
    {
      "cell_type": "code",
      "execution_count": 28,
      "metadata": {
        "id": "4TkOpj3Ju3I_"
      },
      "outputs": [],
      "source": [
        "x_train, x_valid, y_train, y_valid = train_test_split(x_train, y_train, test_size=0.1, random_state=42)"
      ]
    },
    {
      "cell_type": "code",
      "execution_count": 29,
      "metadata": {
        "id": "MqcfAefoqcty"
      },
      "outputs": [],
      "source": [
        "def runModelOnDataWithHP(config,x_train,x_valid,y_train,y_valid,activation_per_layer,epochs,hidden_layer_size,learning_rate,num_neuron_per_hidden_layer,optimizer,batch_size=128,l2_weight_decay=None,loss='categorical_crossentropy'):\n",
        "  ann_model = ANNModel()\n",
        "  input_layer = InputLayer(x_train.shape[1])\n",
        "  ann_model.addInputLayer(input_layer)\n",
        "  for num in range(hidden_layer_size):\n",
        "    current_hidden_layer = Layer(num_neuron_per_hidden_layer,activation=activation_per_layer)\n",
        "    ann_model.addLayer(current_hidden_layer)\n",
        "\n",
        "  output_layer = Layer(10,activation='softmax')\n",
        "  ann_model.addLayer(output_layer)\n",
        "\n",
        "  ann_model.compile(loss,'xavier')\n",
        "\n",
        "  ann_model.train(config,x_train=x_train,y_train=y_train,epochs=epochs,optimizer=optimizer,learning_rate=learning_rate,verbose=2,batch_size=batch_size,x_valid=x_valid,y_valid=y_valid,l2_weight_decay=l2_weight_decay)\n",
        "  # ann_model.print_state()\n",
        "  y_pred_train = ann_model.predict(x_train)\n",
        "  train_accuracy = calculateClassificationAccuracy(y_pred_train,y_train)\n",
        "  print(\"Train accuracy at end:\",train_accuracy)\n",
        "  if(not(config is None)):\n",
        "    wandb.log({\"train_accuracy\": train_accuracy})\n",
        "  avg_loss_train = calculateClassificationLoss(y_pred_train,y_train,loss)\n",
        "  print(\"Train avg_loss at end:\",avg_loss_train)\n",
        "  if(not(config is None)):\n",
        "    wandb.log({\"train_avg_loss\": avg_loss_train})\n",
        "  y_pred_valid = ann_model.predict(x_valid)\n",
        "  validation_accuracy = calculateClassificationAccuracy(y_pred_valid,y_valid)\n",
        "  print(\"Validation accuracy at end:\",validation_accuracy)\n",
        "  if(not(config is None)):\n",
        "    wandb.log({\"accuracy\": validation_accuracy})\n",
        "  avg_loss_valid = calculateClassificationLoss(y_pred_valid,y_valid,loss)\n",
        "  print(\"Valid avg_loss at end:\",avg_loss_valid)\n",
        "  if(not(config is None)):\n",
        "    wandb.log({\"valid_avg_loss\": avg_loss_valid})\n",
        " \n",
        "  return ann_model\n",
        "  \n",
        "  "
      ]
    },
    {
      "cell_type": "code",
      "execution_count": 30,
      "metadata": {
        "id": "C_kg19j61M5B"
      },
      "outputs": [],
      "source": [
        "def hpTuningWithWandb(config=None):\n",
        "    # Initialize a new wandb run\n",
        "    with wandb.init(config=config):\n",
        "        # If called by wandb.agent, as below,\n",
        "        # this config will be set by Sweep Controller\n",
        "        config = wandb.config\n",
        "\n",
        "        runModelOnDataWithHP(config,x_train=x_train,x_valid=x_valid,y_train=y_train,y_valid=y_valid,activation_per_layer=config.activation,epochs=config.epochs,hidden_layer_size=config.hidden_layer_size,learning_rate=config.learning_rate,num_neuron_per_hidden_layer=config.num_neuron_per_hidden_layer,optimizer=config.optimizer,batch_size=config.batch_size,l2_weight_decay=config.l2_weight_decay,loss=config.loss_func)"
      ]
    },
    {
      "cell_type": "markdown",
      "source": [
        "Best model test accuracy and confusion matrix"
      ],
      "metadata": {
        "id": "j8nvCXl4dgAh"
      }
    },
    {
      "cell_type": "code",
      "source": [
        "def runBestModelAndPlotConfusionMatrix():\n",
        "  model = runModelOnDataWithHP(config=None,x_train=x_train,x_valid=x_valid,y_train=y_train,y_valid=y_valid,activation_per_layer='tanh',epochs=3,hidden_layer_size=3,learning_rate=0.0001,num_neuron_per_hidden_layer=128,optimizer='nesterov',batch_size=128)\n",
        "  y_pred_test= model.predict(x_test)\n",
        "  test_accuracy = calculateClassificationAccuracy(y_pred_test,y_test)\n",
        "  print(\"Best model's test accuracy\",test_accuracy)\n",
        "\n",
        "  for it in range(y_pred_test.shape[0]):\n",
        "    classification_index = np.argmax(y_pred_test[it])\n",
        "    y_pred_test[it]=False\n",
        "    y_pred_test[it][classification_index]=True\n",
        " \n",
        "  \n",
        "  cf_matrix = confusion_matrix(y_test.argmax(axis=1),y_pred_test.argmax(axis=1))\n",
        "  \n",
        "  print(cf_matrix)\n",
        "  wandb.log({\"conf_mat\" : wandb.plot.confusion_matrix(\n",
        "                        probs=None,\n",
        "                        y_true=y_test.argmax(axis=1),\n",
        "                        preds=y_pred_test.argmax(axis=1),\n",
        "                        class_names=[\"T-shirt/top\",\"Trouser\",\"Pullover\",\"Dress\",\"Coat\",\"Sandal\",\"Shirt\",\"Sneaker\",\"Bag\",\"Ankle boot\"])})"
      ],
      "metadata": {
        "id": "yuYg7YhZJ-bt"
      },
      "execution_count": 41,
      "outputs": []
    },
    {
      "cell_type": "code",
      "source": [
        "runBestModelAndPlotConfusionMatrix()"
      ],
      "metadata": {
        "colab": {
          "base_uri": "https://localhost:8080/",
          "height": 1000,
          "referenced_widgets": [
            "b84ac2e0b6434da1b417305be524e453",
            "73d7a24035e6415b9488aaee4158f65c",
            "e3878a3540c14a8485a7266639b5041d",
            "c0747a30e9c3482e9aa970893802c4b6",
            "c1fee3184ef94478912af9e911809d90",
            "6c8fc53c515f4937a19c4680d2d8da76",
            "0628632aa9be43b39fd85a45587ddae8",
            "5d34e2d5585248208816346323ed8701",
            "951ef957e02d43a787574547685714fe",
            "40b87b8684284217ba431b03d8f674e3",
            "686e71b448ee407892c1e18a0fb7de13",
            "d7ead84b176f42be88171f5a4382149f",
            "672276b03ce4479f97042967b83e725d",
            "b185327c80524d93a9748622059b3574",
            "9310b4e8e9854b4793eab8067c295076",
            "04a3042fc92c4ef38aac3539b7810065",
            "a4e1033acbdc455d8bbcb345113ec560",
            "4181c615086b424ba434d3fea18bc19d",
            "0b8d7422e2ac4140adfe7631b677b9cd",
            "eeee4843158847529a30a98a4898bf29",
            "277e5934b152411ab186735807794e52",
            "e59387f4560d4781b146456fc9ede6df",
            "f2c3dafe38b6413782518362b5bc5388",
            "be801e40ec314239ba69cf29ea0e06d0",
            "a42345c2d0904fd3901cc82041e7d377",
            "c00949b3994745b083fb7ff7ca70f44d",
            "1f78287923f649eb936a6cbcd0243e4a",
            "c280c79df7044546a13c34c522acb701",
            "637180b3adfd45eb93df128462dbfe8f",
            "498fbf2ebb2e4e67bd028a5038e26328",
            "0308162cbd294200922fa6cb21d77aa9",
            "10f46409b230439db84723d68212f6e6",
            "c63c7f555a554fc4b326f4e2155c8aa0"
          ]
        },
        "id": "4RD1nWBol4bk",
        "outputId": "75260d8e-42a2-4f6d-bf83-31928411e74a"
      },
      "execution_count": 42,
      "outputs": [
        {
          "output_type": "stream",
          "name": "stdout",
          "text": [
            "Weight init [0]: xavier\n",
            "Weight init [ 1  ]: xavier\n",
            "Weight init [ 2  ]: xavier\n",
            "Weight init [ 3  ]: xavier\n",
            "\n",
            " &&&&&&&&&&&&&&&&&&&&  Epoch  0  &&&&&&&&&&&&&&&&&&&&&&&&\n"
          ]
        },
        {
          "output_type": "display_data",
          "data": {
            "application/vnd.jupyter.widget-view+json": {
              "model_id": "b84ac2e0b6434da1b417305be524e453",
              "version_minor": 0,
              "version_major": 2
            },
            "text/plain": [
              "  0%|          | 0/54000 [00:00<?, ?it/s]"
            ]
          },
          "metadata": {}
        },
        {
          "output_type": "stream",
          "name": "stdout",
          "text": [
            "Average  categorical_crossentropy  loss:  0.8128449151951036\n",
            "Correctly classified: 46009.0\n",
            "total_samples: 54000\n",
            "Train accuracy  0.8520185185185185\n",
            "Correctly classified: 5068.0\n",
            "total_samples: 6000\n",
            "Validation accuracy  0.8446666666666667\n",
            "\n",
            " &&&&&&&&&&&&&&&&&&&&  Epoch  1  &&&&&&&&&&&&&&&&&&&&&&&&\n"
          ]
        },
        {
          "output_type": "display_data",
          "data": {
            "application/vnd.jupyter.widget-view+json": {
              "model_id": "d7ead84b176f42be88171f5a4382149f",
              "version_minor": 0,
              "version_major": 2
            },
            "text/plain": [
              "  0%|          | 0/54000 [00:00<?, ?it/s]"
            ]
          },
          "metadata": {}
        },
        {
          "output_type": "stream",
          "name": "stdout",
          "text": [
            "Average  categorical_crossentropy  loss:  0.5873100457509665\n",
            "Correctly classified: 46791.0\n",
            "total_samples: 54000\n",
            "Train accuracy  0.8665\n",
            "Correctly classified: 5169.0\n",
            "total_samples: 6000\n",
            "Validation accuracy  0.8615\n",
            "\n",
            " &&&&&&&&&&&&&&&&&&&&  Epoch  2  &&&&&&&&&&&&&&&&&&&&&&&&\n"
          ]
        },
        {
          "output_type": "display_data",
          "data": {
            "application/vnd.jupyter.widget-view+json": {
              "model_id": "f2c3dafe38b6413782518362b5bc5388",
              "version_minor": 0,
              "version_major": 2
            },
            "text/plain": [
              "  0%|          | 0/54000 [00:00<?, ?it/s]"
            ]
          },
          "metadata": {}
        },
        {
          "output_type": "stream",
          "name": "stdout",
          "text": [
            "Average  categorical_crossentropy  loss:  0.5384285719592602\n",
            "Correctly classified: 47254.0\n",
            "total_samples: 54000\n",
            "Train accuracy  0.8750740740740741\n",
            "Correctly classified: 5218.0\n",
            "total_samples: 6000\n",
            "Validation accuracy  0.8696666666666667\n",
            "Correctly classified: 47254.0\n",
            "total_samples: 54000\n",
            "Train accuracy at end: 0.8750740740740741\n",
            "Train avg_loss at end: 0.5008545508302957\n",
            "Correctly classified: 5218.0\n",
            "total_samples: 6000\n",
            "Validation accuracy at end: 0.8696666666666667\n",
            "Valid avg_loss at end: 0.5219977224399173\n",
            "Correctly classified: 8586.0\n",
            "total_samples: 10000\n",
            "Best model's test accuracy 0.8586\n",
            "[[831   0  18  35   4   0 100   0  12   0]\n",
            " [  3 940   8  40   5   0   2   0   2   0]\n",
            " [  9   0 769  11 117   0  87   0   7   0]\n",
            " [ 26   3  21 880  40   1  25   0   4   0]\n",
            " [  0   0 129  24 781   0  62   0   4   0]\n",
            " [  0   0   0   1   0 930   1  36   2  30]\n",
            " [140   1 105  34  83   0 611   0  26   0]\n",
            " [  0   0   0   0   0  37   0 929   0  34]\n",
            " [  0   1   7   5   6   3   8   5 965   0]\n",
            " [  0   0   0   0   0  10   0  39   1 950]]\n"
          ]
        }
      ]
    },
    {
      "cell_type": "code",
      "execution_count": 33,
      "metadata": {
        "id": "oISiX--9deq5"
      },
      "outputs": [],
      "source": [
        "dive_deep_sweep_config = {\n",
        "  \"method\": \"bayes\",\n",
        "  \"metric\":{\n",
        "    \"goal\": \"maximize\",\n",
        "    \"name\": \"accuracy\"   \n",
        "  },\n",
        "  \"parameters\":{\n",
        "    \"activation\":{\n",
        "      \"values\":['tanh']\n",
        "    },\n",
        "    \"epochs\":{\n",
        "      \"values\": [10]\n",
        "    },\n",
        "    \"hidden_layer_size\":{\n",
        "      \"values\":[3,5]\n",
        "    },\n",
        "    \"learning_rate\":{\n",
        "        \"values\":[0.0001]\n",
        "    },\n",
        "    \"num_neuron_per_hidden_layer\":{\n",
        "        \"values\":[128]\n",
        "    },\n",
        "    \"batch_size\":{\n",
        "        \"values\":[128]\n",
        "    },\n",
        "    \"l2_weight_decay\":{\n",
        "        \"values\":[0]\n",
        "    },\n",
        "    \"optimizer\":{\n",
        "        \"values\":['nesterov']\n",
        "    },\n",
        "    \"loss_func\":{\n",
        "        \"values\":['Mean_Square_loss']\n",
        "    }\n",
        "  }\n",
        "}"
      ]
    },
    {
      "cell_type": "code",
      "execution_count": 34,
      "metadata": {
        "colab": {
          "base_uri": "https://localhost:8080/"
        },
        "id": "JbXm_CvfNofY",
        "outputId": "084ed738-b749-48b9-8b6c-0581971123ed"
      },
      "outputs": [
        {
          "output_type": "stream",
          "name": "stdout",
          "text": [
            "{'method': 'bayes',\n",
            " 'metric': {'goal': 'maximize', 'name': 'accuracy'},\n",
            " 'parameters': {'activation': {'values': ['tanh']},\n",
            "                'batch_size': {'values': [128]},\n",
            "                'epochs': {'values': [10]},\n",
            "                'hidden_layer_size': {'values': [3, 5]},\n",
            "                'l2_weight_decay': {'values': [0]},\n",
            "                'learning_rate': {'values': [0.0001]},\n",
            "                'loss_func': {'values': ['Mean_Square_loss']},\n",
            "                'num_neuron_per_hidden_layer': {'values': [128]},\n",
            "                'optimizer': {'values': ['nesterov']}}}\n"
          ]
        }
      ],
      "source": [
        "import pprint\n",
        "pprint.pprint(dive_deep_sweep_config)"
      ]
    },
    {
      "cell_type": "code",
      "execution_count": 35,
      "metadata": {
        "id": "czTL-XA0Yscx"
      },
      "outputs": [],
      "source": [
        "#sweep_id= wandb.sweep(dive_deep_sweep_config,project=\"Deep learning assignment1\")"
      ]
    },
    {
      "cell_type": "code",
      "execution_count": 36,
      "metadata": {
        "id": "vHTulcA2Xszw"
      },
      "outputs": [],
      "source": [
        "# sweep_id='617qaf79'"
      ]
    },
    {
      "cell_type": "code",
      "execution_count": 43,
      "metadata": {
        "colab": {
          "base_uri": "https://localhost:8080/",
          "height": 587,
          "referenced_widgets": [
            "a0a92ab16ad94aea908ac4e340e3d0ef",
            "bc2ef44c6e284ef3ac518378a9589fe1",
            "64afd89acca04214ad23b8f371f8252f",
            "db788a3054f84287a3785c14b1a26ab9",
            "fde6fe8f0336452084fb93170f1a0ad7",
            "4ed936d8a4fd4be2b58a2ff18b257967",
            "c494c12390e240beaabfca9f653b398e",
            "96d1c5a7d35e4c2daafdf8714563875c",
            "c2b3eb6523964790bb0f577e5bc17b99",
            "991a7ec1846447a49f90f46c4007874c",
            "8e157f77cd0f45a3a9df5bf3d460ccac"
          ]
        },
        "id": "uCRxWdclbN6K",
        "outputId": "b00c8505-4b75-4484-b2b3-ebad2f2c018e"
      },
      "outputs": [
        {
          "output_type": "stream",
          "name": "stdout",
          "text": [
            "Weight init [0]: xavier\n",
            "Weight init [ 1  ]: xavier\n",
            "Weight init [ 2  ]: xavier\n",
            "Weight init [ 3  ]: xavier\n",
            "\n",
            " &&&&&&&&&&&&&&&&&&&&  Epoch  0  &&&&&&&&&&&&&&&&&&&&&&&&\n"
          ]
        },
        {
          "output_type": "display_data",
          "data": {
            "application/vnd.jupyter.widget-view+json": {
              "model_id": "a0a92ab16ad94aea908ac4e340e3d0ef",
              "version_minor": 0,
              "version_major": 2
            },
            "text/plain": [
              "  0%|          | 0/54000 [00:00<?, ?it/s]"
            ]
          },
          "metadata": {}
        },
        {
          "output_type": "stream",
          "name": "stdout",
          "text": [
            "Average  categorical_crossentropy  loss:  0.8137633387052275\n",
            "Correctly classified: 46130.0\n",
            "total_samples: 54000\n",
            "Train accuracy  0.8542592592592593\n",
            "Correctly classified: 5091.0\n",
            "total_samples: 6000\n",
            "Validation accuracy  0.8485\n",
            "Correctly classified: 46130.0\n",
            "total_samples: 54000\n",
            "Train accuracy at end: 0.8542592592592593\n",
            "Train avg_loss at end: 0.5977336397982799\n",
            "Correctly classified: 5091.0\n",
            "total_samples: 6000\n",
            "Validation accuracy at end: 0.8485\n",
            "Valid avg_loss at end: 0.6061564871021662\n",
            "[[815   0  16  56   5   0  89   1  18   0]\n",
            " [  3 934  10  41   9   0   1   0   2   0]\n",
            " [ 11   0 724  11 148   1  92   0  13   0]\n",
            " [ 31   4  16 881  37   1  27   0   3   0]\n",
            " [  0   0  99  34 783   0  77   0   7   0]\n",
            " [  1   0   0   2   0 899   0  52   8  38]\n",
            " [145   1 105  46 122   0 553   0  28   0]\n",
            " [  0   0   0   0   0  34   0 913   0  53]\n",
            " [  1   1   5   6   3   4  18   5 957   0]\n",
            " [  0   0   0   0   0  12   0  39   1 948]]\n"
          ]
        }
      ],
      "source": [
        "#wandb.agent(sweep_id,hpTuningWithWandb)\n",
        "model = runModelOnDataWithHP(config=None,x_train=x_train,x_valid=x_valid,y_train=y_train,y_valid=y_valid,activation_per_layer='tanh',epochs=1,hidden_layer_size=3,learning_rate=0.0001,num_neuron_per_hidden_layer=128,optimizer='nesterov',batch_size=128)\n",
        "y_pred_test= model.predict(x_test)\n",
        "for it in range(y_pred_test.shape[0]):\n",
        "    classification_index = np.argmax(y_pred_test[it])\n",
        "    y_pred_test[it]=False\n",
        "    y_pred_test[it][classification_index]=True\n",
        "cf_matrix = confusion_matrix(y_test.argmax(axis=1),y_pred_test.argmax(axis=1))\n",
        "  \n",
        "print(cf_matrix)\n",
        "wandb.log({\"conf_mat\" : wandb.plot.confusion_matrix(\n",
        "                        probs=None,\n",
        "                        y_true=y_test.argmax(axis=1),\n",
        "                        preds=y_pred_test.argmax(axis=1),\n",
        "                        class_names=[\"T-shirt/top\",\"Trouser\",\"Pullover\",\"Dress\",\"Coat\",\"Sandal\",\"Shirt\",\"Sneaker\",\"Bag\",\"Ankle boot\"])})\n"
      ]
    }
  ],
  "metadata": {
    "colab": {
      "collapsed_sections": [],
      "name": "Assignment_1.ipynb",
      "provenance": [],
      "include_colab_link": true
    },
    "kernelspec": {
      "display_name": "Python 3",
      "name": "python3"
    },
    "language_info": {
      "name": "python"
    },
    "widgets": {
      "application/vnd.jupyter.widget-state+json": {
        "f3b309790f2d4fc480a150abfa6a37fe": {
          "model_module": "@jupyter-widgets/controls",
          "model_name": "VBoxModel",
          "model_module_version": "1.5.0",
          "state": {
            "_view_name": "VBoxView",
            "_dom_classes": [],
            "_model_name": "VBoxModel",
            "_view_module": "@jupyter-widgets/controls",
            "_model_module_version": "1.5.0",
            "_view_count": null,
            "_view_module_version": "1.5.0",
            "box_style": "",
            "layout": "IPY_MODEL_024ecdf8702147e497c0db3dfd63f31a",
            "_model_module": "@jupyter-widgets/controls",
            "children": [
              "IPY_MODEL_b24220775cb24a3cb05cb19e8df10f2c",
              "IPY_MODEL_5b354a9932024767a28e76b2cd955b50"
            ]
          }
        },
        "024ecdf8702147e497c0db3dfd63f31a": {
          "model_module": "@jupyter-widgets/base",
          "model_name": "LayoutModel",
          "model_module_version": "1.2.0",
          "state": {
            "_view_name": "LayoutView",
            "grid_template_rows": null,
            "right": null,
            "justify_content": null,
            "_view_module": "@jupyter-widgets/base",
            "overflow": null,
            "_model_module_version": "1.2.0",
            "_view_count": null,
            "flex_flow": null,
            "width": null,
            "min_width": null,
            "border": null,
            "align_items": null,
            "bottom": null,
            "_model_module": "@jupyter-widgets/base",
            "top": null,
            "grid_column": null,
            "overflow_y": null,
            "overflow_x": null,
            "grid_auto_flow": null,
            "grid_area": null,
            "grid_template_columns": null,
            "flex": null,
            "_model_name": "LayoutModel",
            "justify_items": null,
            "grid_row": null,
            "max_height": null,
            "align_content": null,
            "visibility": null,
            "align_self": null,
            "height": null,
            "min_height": null,
            "padding": null,
            "grid_auto_rows": null,
            "grid_gap": null,
            "max_width": null,
            "order": null,
            "_view_module_version": "1.2.0",
            "grid_template_areas": null,
            "object_position": null,
            "object_fit": null,
            "grid_auto_columns": null,
            "margin": null,
            "display": null,
            "left": null
          }
        },
        "b24220775cb24a3cb05cb19e8df10f2c": {
          "model_module": "@jupyter-widgets/controls",
          "model_name": "LabelModel",
          "model_module_version": "1.5.0",
          "state": {
            "_view_name": "LabelView",
            "style": "IPY_MODEL_7a75b733c56f42b3aa2c707206130b82",
            "_dom_classes": [],
            "description": "",
            "_model_name": "LabelModel",
            "placeholder": "​",
            "_view_module": "@jupyter-widgets/controls",
            "_model_module_version": "1.5.0",
            "value": " 0.01MB of 0.01MB uploaded (0.00MB deduped)\r",
            "_view_count": null,
            "_view_module_version": "1.5.0",
            "description_tooltip": null,
            "_model_module": "@jupyter-widgets/controls",
            "layout": "IPY_MODEL_4c2a4dd4ed2540aaa17dce6b66cb152d"
          }
        },
        "5b354a9932024767a28e76b2cd955b50": {
          "model_module": "@jupyter-widgets/controls",
          "model_name": "FloatProgressModel",
          "model_module_version": "1.5.0",
          "state": {
            "_view_name": "ProgressView",
            "style": "IPY_MODEL_d8241d9231024f40b51f365bafd8c594",
            "_dom_classes": [],
            "description": "",
            "_model_name": "FloatProgressModel",
            "bar_style": "",
            "max": 1,
            "_view_module": "@jupyter-widgets/controls",
            "_model_module_version": "1.5.0",
            "value": 1,
            "_view_count": null,
            "_view_module_version": "1.5.0",
            "orientation": "horizontal",
            "min": 0,
            "description_tooltip": null,
            "_model_module": "@jupyter-widgets/controls",
            "layout": "IPY_MODEL_2d7340f6c9a849cfafcdd0b468da56f6"
          }
        },
        "7a75b733c56f42b3aa2c707206130b82": {
          "model_module": "@jupyter-widgets/controls",
          "model_name": "DescriptionStyleModel",
          "model_module_version": "1.5.0",
          "state": {
            "_view_name": "StyleView",
            "_model_name": "DescriptionStyleModel",
            "description_width": "",
            "_view_module": "@jupyter-widgets/base",
            "_model_module_version": "1.5.0",
            "_view_count": null,
            "_view_module_version": "1.2.0",
            "_model_module": "@jupyter-widgets/controls"
          }
        },
        "4c2a4dd4ed2540aaa17dce6b66cb152d": {
          "model_module": "@jupyter-widgets/base",
          "model_name": "LayoutModel",
          "model_module_version": "1.2.0",
          "state": {
            "_view_name": "LayoutView",
            "grid_template_rows": null,
            "right": null,
            "justify_content": null,
            "_view_module": "@jupyter-widgets/base",
            "overflow": null,
            "_model_module_version": "1.2.0",
            "_view_count": null,
            "flex_flow": null,
            "width": null,
            "min_width": null,
            "border": null,
            "align_items": null,
            "bottom": null,
            "_model_module": "@jupyter-widgets/base",
            "top": null,
            "grid_column": null,
            "overflow_y": null,
            "overflow_x": null,
            "grid_auto_flow": null,
            "grid_area": null,
            "grid_template_columns": null,
            "flex": null,
            "_model_name": "LayoutModel",
            "justify_items": null,
            "grid_row": null,
            "max_height": null,
            "align_content": null,
            "visibility": null,
            "align_self": null,
            "height": null,
            "min_height": null,
            "padding": null,
            "grid_auto_rows": null,
            "grid_gap": null,
            "max_width": null,
            "order": null,
            "_view_module_version": "1.2.0",
            "grid_template_areas": null,
            "object_position": null,
            "object_fit": null,
            "grid_auto_columns": null,
            "margin": null,
            "display": null,
            "left": null
          }
        },
        "d8241d9231024f40b51f365bafd8c594": {
          "model_module": "@jupyter-widgets/controls",
          "model_name": "ProgressStyleModel",
          "model_module_version": "1.5.0",
          "state": {
            "_view_name": "StyleView",
            "_model_name": "ProgressStyleModel",
            "description_width": "",
            "_view_module": "@jupyter-widgets/base",
            "_model_module_version": "1.5.0",
            "_view_count": null,
            "_view_module_version": "1.2.0",
            "bar_color": null,
            "_model_module": "@jupyter-widgets/controls"
          }
        },
        "2d7340f6c9a849cfafcdd0b468da56f6": {
          "model_module": "@jupyter-widgets/base",
          "model_name": "LayoutModel",
          "model_module_version": "1.2.0",
          "state": {
            "_view_name": "LayoutView",
            "grid_template_rows": null,
            "right": null,
            "justify_content": null,
            "_view_module": "@jupyter-widgets/base",
            "overflow": null,
            "_model_module_version": "1.2.0",
            "_view_count": null,
            "flex_flow": null,
            "width": null,
            "min_width": null,
            "border": null,
            "align_items": null,
            "bottom": null,
            "_model_module": "@jupyter-widgets/base",
            "top": null,
            "grid_column": null,
            "overflow_y": null,
            "overflow_x": null,
            "grid_auto_flow": null,
            "grid_area": null,
            "grid_template_columns": null,
            "flex": null,
            "_model_name": "LayoutModel",
            "justify_items": null,
            "grid_row": null,
            "max_height": null,
            "align_content": null,
            "visibility": null,
            "align_self": null,
            "height": null,
            "min_height": null,
            "padding": null,
            "grid_auto_rows": null,
            "grid_gap": null,
            "max_width": null,
            "order": null,
            "_view_module_version": "1.2.0",
            "grid_template_areas": null,
            "object_position": null,
            "object_fit": null,
            "grid_auto_columns": null,
            "margin": null,
            "display": null,
            "left": null
          }
        },
        "b84ac2e0b6434da1b417305be524e453": {
          "model_module": "@jupyter-widgets/controls",
          "model_name": "HBoxModel",
          "model_module_version": "1.5.0",
          "state": {
            "_view_name": "HBoxView",
            "_dom_classes": [],
            "_model_name": "HBoxModel",
            "_view_module": "@jupyter-widgets/controls",
            "_model_module_version": "1.5.0",
            "_view_count": null,
            "_view_module_version": "1.5.0",
            "box_style": "",
            "layout": "IPY_MODEL_73d7a24035e6415b9488aaee4158f65c",
            "_model_module": "@jupyter-widgets/controls",
            "children": [
              "IPY_MODEL_e3878a3540c14a8485a7266639b5041d",
              "IPY_MODEL_c0747a30e9c3482e9aa970893802c4b6",
              "IPY_MODEL_c1fee3184ef94478912af9e911809d90"
            ]
          }
        },
        "73d7a24035e6415b9488aaee4158f65c": {
          "model_module": "@jupyter-widgets/base",
          "model_name": "LayoutModel",
          "model_module_version": "1.2.0",
          "state": {
            "_view_name": "LayoutView",
            "grid_template_rows": null,
            "right": null,
            "justify_content": null,
            "_view_module": "@jupyter-widgets/base",
            "overflow": null,
            "_model_module_version": "1.2.0",
            "_view_count": null,
            "flex_flow": null,
            "width": null,
            "min_width": null,
            "border": null,
            "align_items": null,
            "bottom": null,
            "_model_module": "@jupyter-widgets/base",
            "top": null,
            "grid_column": null,
            "overflow_y": null,
            "overflow_x": null,
            "grid_auto_flow": null,
            "grid_area": null,
            "grid_template_columns": null,
            "flex": null,
            "_model_name": "LayoutModel",
            "justify_items": null,
            "grid_row": null,
            "max_height": null,
            "align_content": null,
            "visibility": null,
            "align_self": null,
            "height": null,
            "min_height": null,
            "padding": null,
            "grid_auto_rows": null,
            "grid_gap": null,
            "max_width": null,
            "order": null,
            "_view_module_version": "1.2.0",
            "grid_template_areas": null,
            "object_position": null,
            "object_fit": null,
            "grid_auto_columns": null,
            "margin": null,
            "display": null,
            "left": null
          }
        },
        "e3878a3540c14a8485a7266639b5041d": {
          "model_module": "@jupyter-widgets/controls",
          "model_name": "HTMLModel",
          "model_module_version": "1.5.0",
          "state": {
            "_view_name": "HTMLView",
            "style": "IPY_MODEL_6c8fc53c515f4937a19c4680d2d8da76",
            "_dom_classes": [],
            "description": "",
            "_model_name": "HTMLModel",
            "placeholder": "​",
            "_view_module": "@jupyter-widgets/controls",
            "_model_module_version": "1.5.0",
            "value": "100%",
            "_view_count": null,
            "_view_module_version": "1.5.0",
            "description_tooltip": null,
            "_model_module": "@jupyter-widgets/controls",
            "layout": "IPY_MODEL_0628632aa9be43b39fd85a45587ddae8"
          }
        },
        "c0747a30e9c3482e9aa970893802c4b6": {
          "model_module": "@jupyter-widgets/controls",
          "model_name": "FloatProgressModel",
          "model_module_version": "1.5.0",
          "state": {
            "_view_name": "ProgressView",
            "style": "IPY_MODEL_5d34e2d5585248208816346323ed8701",
            "_dom_classes": [],
            "description": "",
            "_model_name": "FloatProgressModel",
            "bar_style": "success",
            "max": 54000,
            "_view_module": "@jupyter-widgets/controls",
            "_model_module_version": "1.5.0",
            "value": 54000,
            "_view_count": null,
            "_view_module_version": "1.5.0",
            "orientation": "horizontal",
            "min": 0,
            "description_tooltip": null,
            "_model_module": "@jupyter-widgets/controls",
            "layout": "IPY_MODEL_951ef957e02d43a787574547685714fe"
          }
        },
        "c1fee3184ef94478912af9e911809d90": {
          "model_module": "@jupyter-widgets/controls",
          "model_name": "HTMLModel",
          "model_module_version": "1.5.0",
          "state": {
            "_view_name": "HTMLView",
            "style": "IPY_MODEL_40b87b8684284217ba431b03d8f674e3",
            "_dom_classes": [],
            "description": "",
            "_model_name": "HTMLModel",
            "placeholder": "​",
            "_view_module": "@jupyter-widgets/controls",
            "_model_module_version": "1.5.0",
            "value": " 54000/54000 [04:02&lt;00:00, 239.28it/s]",
            "_view_count": null,
            "_view_module_version": "1.5.0",
            "description_tooltip": null,
            "_model_module": "@jupyter-widgets/controls",
            "layout": "IPY_MODEL_686e71b448ee407892c1e18a0fb7de13"
          }
        },
        "6c8fc53c515f4937a19c4680d2d8da76": {
          "model_module": "@jupyter-widgets/controls",
          "model_name": "DescriptionStyleModel",
          "model_module_version": "1.5.0",
          "state": {
            "_view_name": "StyleView",
            "_model_name": "DescriptionStyleModel",
            "description_width": "",
            "_view_module": "@jupyter-widgets/base",
            "_model_module_version": "1.5.0",
            "_view_count": null,
            "_view_module_version": "1.2.0",
            "_model_module": "@jupyter-widgets/controls"
          }
        },
        "0628632aa9be43b39fd85a45587ddae8": {
          "model_module": "@jupyter-widgets/base",
          "model_name": "LayoutModel",
          "model_module_version": "1.2.0",
          "state": {
            "_view_name": "LayoutView",
            "grid_template_rows": null,
            "right": null,
            "justify_content": null,
            "_view_module": "@jupyter-widgets/base",
            "overflow": null,
            "_model_module_version": "1.2.0",
            "_view_count": null,
            "flex_flow": null,
            "width": null,
            "min_width": null,
            "border": null,
            "align_items": null,
            "bottom": null,
            "_model_module": "@jupyter-widgets/base",
            "top": null,
            "grid_column": null,
            "overflow_y": null,
            "overflow_x": null,
            "grid_auto_flow": null,
            "grid_area": null,
            "grid_template_columns": null,
            "flex": null,
            "_model_name": "LayoutModel",
            "justify_items": null,
            "grid_row": null,
            "max_height": null,
            "align_content": null,
            "visibility": null,
            "align_self": null,
            "height": null,
            "min_height": null,
            "padding": null,
            "grid_auto_rows": null,
            "grid_gap": null,
            "max_width": null,
            "order": null,
            "_view_module_version": "1.2.0",
            "grid_template_areas": null,
            "object_position": null,
            "object_fit": null,
            "grid_auto_columns": null,
            "margin": null,
            "display": null,
            "left": null
          }
        },
        "5d34e2d5585248208816346323ed8701": {
          "model_module": "@jupyter-widgets/controls",
          "model_name": "ProgressStyleModel",
          "model_module_version": "1.5.0",
          "state": {
            "_view_name": "StyleView",
            "_model_name": "ProgressStyleModel",
            "description_width": "",
            "_view_module": "@jupyter-widgets/base",
            "_model_module_version": "1.5.0",
            "_view_count": null,
            "_view_module_version": "1.2.0",
            "bar_color": null,
            "_model_module": "@jupyter-widgets/controls"
          }
        },
        "951ef957e02d43a787574547685714fe": {
          "model_module": "@jupyter-widgets/base",
          "model_name": "LayoutModel",
          "model_module_version": "1.2.0",
          "state": {
            "_view_name": "LayoutView",
            "grid_template_rows": null,
            "right": null,
            "justify_content": null,
            "_view_module": "@jupyter-widgets/base",
            "overflow": null,
            "_model_module_version": "1.2.0",
            "_view_count": null,
            "flex_flow": null,
            "width": null,
            "min_width": null,
            "border": null,
            "align_items": null,
            "bottom": null,
            "_model_module": "@jupyter-widgets/base",
            "top": null,
            "grid_column": null,
            "overflow_y": null,
            "overflow_x": null,
            "grid_auto_flow": null,
            "grid_area": null,
            "grid_template_columns": null,
            "flex": null,
            "_model_name": "LayoutModel",
            "justify_items": null,
            "grid_row": null,
            "max_height": null,
            "align_content": null,
            "visibility": null,
            "align_self": null,
            "height": null,
            "min_height": null,
            "padding": null,
            "grid_auto_rows": null,
            "grid_gap": null,
            "max_width": null,
            "order": null,
            "_view_module_version": "1.2.0",
            "grid_template_areas": null,
            "object_position": null,
            "object_fit": null,
            "grid_auto_columns": null,
            "margin": null,
            "display": null,
            "left": null
          }
        },
        "40b87b8684284217ba431b03d8f674e3": {
          "model_module": "@jupyter-widgets/controls",
          "model_name": "DescriptionStyleModel",
          "model_module_version": "1.5.0",
          "state": {
            "_view_name": "StyleView",
            "_model_name": "DescriptionStyleModel",
            "description_width": "",
            "_view_module": "@jupyter-widgets/base",
            "_model_module_version": "1.5.0",
            "_view_count": null,
            "_view_module_version": "1.2.0",
            "_model_module": "@jupyter-widgets/controls"
          }
        },
        "686e71b448ee407892c1e18a0fb7de13": {
          "model_module": "@jupyter-widgets/base",
          "model_name": "LayoutModel",
          "model_module_version": "1.2.0",
          "state": {
            "_view_name": "LayoutView",
            "grid_template_rows": null,
            "right": null,
            "justify_content": null,
            "_view_module": "@jupyter-widgets/base",
            "overflow": null,
            "_model_module_version": "1.2.0",
            "_view_count": null,
            "flex_flow": null,
            "width": null,
            "min_width": null,
            "border": null,
            "align_items": null,
            "bottom": null,
            "_model_module": "@jupyter-widgets/base",
            "top": null,
            "grid_column": null,
            "overflow_y": null,
            "overflow_x": null,
            "grid_auto_flow": null,
            "grid_area": null,
            "grid_template_columns": null,
            "flex": null,
            "_model_name": "LayoutModel",
            "justify_items": null,
            "grid_row": null,
            "max_height": null,
            "align_content": null,
            "visibility": null,
            "align_self": null,
            "height": null,
            "min_height": null,
            "padding": null,
            "grid_auto_rows": null,
            "grid_gap": null,
            "max_width": null,
            "order": null,
            "_view_module_version": "1.2.0",
            "grid_template_areas": null,
            "object_position": null,
            "object_fit": null,
            "grid_auto_columns": null,
            "margin": null,
            "display": null,
            "left": null
          }
        },
        "d7ead84b176f42be88171f5a4382149f": {
          "model_module": "@jupyter-widgets/controls",
          "model_name": "HBoxModel",
          "model_module_version": "1.5.0",
          "state": {
            "_view_name": "HBoxView",
            "_dom_classes": [],
            "_model_name": "HBoxModel",
            "_view_module": "@jupyter-widgets/controls",
            "_model_module_version": "1.5.0",
            "_view_count": null,
            "_view_module_version": "1.5.0",
            "box_style": "",
            "layout": "IPY_MODEL_672276b03ce4479f97042967b83e725d",
            "_model_module": "@jupyter-widgets/controls",
            "children": [
              "IPY_MODEL_b185327c80524d93a9748622059b3574",
              "IPY_MODEL_9310b4e8e9854b4793eab8067c295076",
              "IPY_MODEL_04a3042fc92c4ef38aac3539b7810065"
            ]
          }
        },
        "672276b03ce4479f97042967b83e725d": {
          "model_module": "@jupyter-widgets/base",
          "model_name": "LayoutModel",
          "model_module_version": "1.2.0",
          "state": {
            "_view_name": "LayoutView",
            "grid_template_rows": null,
            "right": null,
            "justify_content": null,
            "_view_module": "@jupyter-widgets/base",
            "overflow": null,
            "_model_module_version": "1.2.0",
            "_view_count": null,
            "flex_flow": null,
            "width": null,
            "min_width": null,
            "border": null,
            "align_items": null,
            "bottom": null,
            "_model_module": "@jupyter-widgets/base",
            "top": null,
            "grid_column": null,
            "overflow_y": null,
            "overflow_x": null,
            "grid_auto_flow": null,
            "grid_area": null,
            "grid_template_columns": null,
            "flex": null,
            "_model_name": "LayoutModel",
            "justify_items": null,
            "grid_row": null,
            "max_height": null,
            "align_content": null,
            "visibility": null,
            "align_self": null,
            "height": null,
            "min_height": null,
            "padding": null,
            "grid_auto_rows": null,
            "grid_gap": null,
            "max_width": null,
            "order": null,
            "_view_module_version": "1.2.0",
            "grid_template_areas": null,
            "object_position": null,
            "object_fit": null,
            "grid_auto_columns": null,
            "margin": null,
            "display": null,
            "left": null
          }
        },
        "b185327c80524d93a9748622059b3574": {
          "model_module": "@jupyter-widgets/controls",
          "model_name": "HTMLModel",
          "model_module_version": "1.5.0",
          "state": {
            "_view_name": "HTMLView",
            "style": "IPY_MODEL_a4e1033acbdc455d8bbcb345113ec560",
            "_dom_classes": [],
            "description": "",
            "_model_name": "HTMLModel",
            "placeholder": "​",
            "_view_module": "@jupyter-widgets/controls",
            "_model_module_version": "1.5.0",
            "value": "100%",
            "_view_count": null,
            "_view_module_version": "1.5.0",
            "description_tooltip": null,
            "_model_module": "@jupyter-widgets/controls",
            "layout": "IPY_MODEL_4181c615086b424ba434d3fea18bc19d"
          }
        },
        "9310b4e8e9854b4793eab8067c295076": {
          "model_module": "@jupyter-widgets/controls",
          "model_name": "FloatProgressModel",
          "model_module_version": "1.5.0",
          "state": {
            "_view_name": "ProgressView",
            "style": "IPY_MODEL_0b8d7422e2ac4140adfe7631b677b9cd",
            "_dom_classes": [],
            "description": "",
            "_model_name": "FloatProgressModel",
            "bar_style": "success",
            "max": 54000,
            "_view_module": "@jupyter-widgets/controls",
            "_model_module_version": "1.5.0",
            "value": 54000,
            "_view_count": null,
            "_view_module_version": "1.5.0",
            "orientation": "horizontal",
            "min": 0,
            "description_tooltip": null,
            "_model_module": "@jupyter-widgets/controls",
            "layout": "IPY_MODEL_eeee4843158847529a30a98a4898bf29"
          }
        },
        "04a3042fc92c4ef38aac3539b7810065": {
          "model_module": "@jupyter-widgets/controls",
          "model_name": "HTMLModel",
          "model_module_version": "1.5.0",
          "state": {
            "_view_name": "HTMLView",
            "style": "IPY_MODEL_277e5934b152411ab186735807794e52",
            "_dom_classes": [],
            "description": "",
            "_model_name": "HTMLModel",
            "placeholder": "​",
            "_view_module": "@jupyter-widgets/controls",
            "_model_module_version": "1.5.0",
            "value": " 54000/54000 [04:03&lt;00:00, 221.74it/s]",
            "_view_count": null,
            "_view_module_version": "1.5.0",
            "description_tooltip": null,
            "_model_module": "@jupyter-widgets/controls",
            "layout": "IPY_MODEL_e59387f4560d4781b146456fc9ede6df"
          }
        },
        "a4e1033acbdc455d8bbcb345113ec560": {
          "model_module": "@jupyter-widgets/controls",
          "model_name": "DescriptionStyleModel",
          "model_module_version": "1.5.0",
          "state": {
            "_view_name": "StyleView",
            "_model_name": "DescriptionStyleModel",
            "description_width": "",
            "_view_module": "@jupyter-widgets/base",
            "_model_module_version": "1.5.0",
            "_view_count": null,
            "_view_module_version": "1.2.0",
            "_model_module": "@jupyter-widgets/controls"
          }
        },
        "4181c615086b424ba434d3fea18bc19d": {
          "model_module": "@jupyter-widgets/base",
          "model_name": "LayoutModel",
          "model_module_version": "1.2.0",
          "state": {
            "_view_name": "LayoutView",
            "grid_template_rows": null,
            "right": null,
            "justify_content": null,
            "_view_module": "@jupyter-widgets/base",
            "overflow": null,
            "_model_module_version": "1.2.0",
            "_view_count": null,
            "flex_flow": null,
            "width": null,
            "min_width": null,
            "border": null,
            "align_items": null,
            "bottom": null,
            "_model_module": "@jupyter-widgets/base",
            "top": null,
            "grid_column": null,
            "overflow_y": null,
            "overflow_x": null,
            "grid_auto_flow": null,
            "grid_area": null,
            "grid_template_columns": null,
            "flex": null,
            "_model_name": "LayoutModel",
            "justify_items": null,
            "grid_row": null,
            "max_height": null,
            "align_content": null,
            "visibility": null,
            "align_self": null,
            "height": null,
            "min_height": null,
            "padding": null,
            "grid_auto_rows": null,
            "grid_gap": null,
            "max_width": null,
            "order": null,
            "_view_module_version": "1.2.0",
            "grid_template_areas": null,
            "object_position": null,
            "object_fit": null,
            "grid_auto_columns": null,
            "margin": null,
            "display": null,
            "left": null
          }
        },
        "0b8d7422e2ac4140adfe7631b677b9cd": {
          "model_module": "@jupyter-widgets/controls",
          "model_name": "ProgressStyleModel",
          "model_module_version": "1.5.0",
          "state": {
            "_view_name": "StyleView",
            "_model_name": "ProgressStyleModel",
            "description_width": "",
            "_view_module": "@jupyter-widgets/base",
            "_model_module_version": "1.5.0",
            "_view_count": null,
            "_view_module_version": "1.2.0",
            "bar_color": null,
            "_model_module": "@jupyter-widgets/controls"
          }
        },
        "eeee4843158847529a30a98a4898bf29": {
          "model_module": "@jupyter-widgets/base",
          "model_name": "LayoutModel",
          "model_module_version": "1.2.0",
          "state": {
            "_view_name": "LayoutView",
            "grid_template_rows": null,
            "right": null,
            "justify_content": null,
            "_view_module": "@jupyter-widgets/base",
            "overflow": null,
            "_model_module_version": "1.2.0",
            "_view_count": null,
            "flex_flow": null,
            "width": null,
            "min_width": null,
            "border": null,
            "align_items": null,
            "bottom": null,
            "_model_module": "@jupyter-widgets/base",
            "top": null,
            "grid_column": null,
            "overflow_y": null,
            "overflow_x": null,
            "grid_auto_flow": null,
            "grid_area": null,
            "grid_template_columns": null,
            "flex": null,
            "_model_name": "LayoutModel",
            "justify_items": null,
            "grid_row": null,
            "max_height": null,
            "align_content": null,
            "visibility": null,
            "align_self": null,
            "height": null,
            "min_height": null,
            "padding": null,
            "grid_auto_rows": null,
            "grid_gap": null,
            "max_width": null,
            "order": null,
            "_view_module_version": "1.2.0",
            "grid_template_areas": null,
            "object_position": null,
            "object_fit": null,
            "grid_auto_columns": null,
            "margin": null,
            "display": null,
            "left": null
          }
        },
        "277e5934b152411ab186735807794e52": {
          "model_module": "@jupyter-widgets/controls",
          "model_name": "DescriptionStyleModel",
          "model_module_version": "1.5.0",
          "state": {
            "_view_name": "StyleView",
            "_model_name": "DescriptionStyleModel",
            "description_width": "",
            "_view_module": "@jupyter-widgets/base",
            "_model_module_version": "1.5.0",
            "_view_count": null,
            "_view_module_version": "1.2.0",
            "_model_module": "@jupyter-widgets/controls"
          }
        },
        "e59387f4560d4781b146456fc9ede6df": {
          "model_module": "@jupyter-widgets/base",
          "model_name": "LayoutModel",
          "model_module_version": "1.2.0",
          "state": {
            "_view_name": "LayoutView",
            "grid_template_rows": null,
            "right": null,
            "justify_content": null,
            "_view_module": "@jupyter-widgets/base",
            "overflow": null,
            "_model_module_version": "1.2.0",
            "_view_count": null,
            "flex_flow": null,
            "width": null,
            "min_width": null,
            "border": null,
            "align_items": null,
            "bottom": null,
            "_model_module": "@jupyter-widgets/base",
            "top": null,
            "grid_column": null,
            "overflow_y": null,
            "overflow_x": null,
            "grid_auto_flow": null,
            "grid_area": null,
            "grid_template_columns": null,
            "flex": null,
            "_model_name": "LayoutModel",
            "justify_items": null,
            "grid_row": null,
            "max_height": null,
            "align_content": null,
            "visibility": null,
            "align_self": null,
            "height": null,
            "min_height": null,
            "padding": null,
            "grid_auto_rows": null,
            "grid_gap": null,
            "max_width": null,
            "order": null,
            "_view_module_version": "1.2.0",
            "grid_template_areas": null,
            "object_position": null,
            "object_fit": null,
            "grid_auto_columns": null,
            "margin": null,
            "display": null,
            "left": null
          }
        },
        "f2c3dafe38b6413782518362b5bc5388": {
          "model_module": "@jupyter-widgets/controls",
          "model_name": "HBoxModel",
          "model_module_version": "1.5.0",
          "state": {
            "_view_name": "HBoxView",
            "_dom_classes": [],
            "_model_name": "HBoxModel",
            "_view_module": "@jupyter-widgets/controls",
            "_model_module_version": "1.5.0",
            "_view_count": null,
            "_view_module_version": "1.5.0",
            "box_style": "",
            "layout": "IPY_MODEL_be801e40ec314239ba69cf29ea0e06d0",
            "_model_module": "@jupyter-widgets/controls",
            "children": [
              "IPY_MODEL_a42345c2d0904fd3901cc82041e7d377",
              "IPY_MODEL_c00949b3994745b083fb7ff7ca70f44d",
              "IPY_MODEL_1f78287923f649eb936a6cbcd0243e4a"
            ]
          }
        },
        "be801e40ec314239ba69cf29ea0e06d0": {
          "model_module": "@jupyter-widgets/base",
          "model_name": "LayoutModel",
          "model_module_version": "1.2.0",
          "state": {
            "_view_name": "LayoutView",
            "grid_template_rows": null,
            "right": null,
            "justify_content": null,
            "_view_module": "@jupyter-widgets/base",
            "overflow": null,
            "_model_module_version": "1.2.0",
            "_view_count": null,
            "flex_flow": null,
            "width": null,
            "min_width": null,
            "border": null,
            "align_items": null,
            "bottom": null,
            "_model_module": "@jupyter-widgets/base",
            "top": null,
            "grid_column": null,
            "overflow_y": null,
            "overflow_x": null,
            "grid_auto_flow": null,
            "grid_area": null,
            "grid_template_columns": null,
            "flex": null,
            "_model_name": "LayoutModel",
            "justify_items": null,
            "grid_row": null,
            "max_height": null,
            "align_content": null,
            "visibility": null,
            "align_self": null,
            "height": null,
            "min_height": null,
            "padding": null,
            "grid_auto_rows": null,
            "grid_gap": null,
            "max_width": null,
            "order": null,
            "_view_module_version": "1.2.0",
            "grid_template_areas": null,
            "object_position": null,
            "object_fit": null,
            "grid_auto_columns": null,
            "margin": null,
            "display": null,
            "left": null
          }
        },
        "a42345c2d0904fd3901cc82041e7d377": {
          "model_module": "@jupyter-widgets/controls",
          "model_name": "HTMLModel",
          "model_module_version": "1.5.0",
          "state": {
            "_view_name": "HTMLView",
            "style": "IPY_MODEL_c280c79df7044546a13c34c522acb701",
            "_dom_classes": [],
            "description": "",
            "_model_name": "HTMLModel",
            "placeholder": "​",
            "_view_module": "@jupyter-widgets/controls",
            "_model_module_version": "1.5.0",
            "value": "100%",
            "_view_count": null,
            "_view_module_version": "1.5.0",
            "description_tooltip": null,
            "_model_module": "@jupyter-widgets/controls",
            "layout": "IPY_MODEL_637180b3adfd45eb93df128462dbfe8f"
          }
        },
        "c00949b3994745b083fb7ff7ca70f44d": {
          "model_module": "@jupyter-widgets/controls",
          "model_name": "FloatProgressModel",
          "model_module_version": "1.5.0",
          "state": {
            "_view_name": "ProgressView",
            "style": "IPY_MODEL_498fbf2ebb2e4e67bd028a5038e26328",
            "_dom_classes": [],
            "description": "",
            "_model_name": "FloatProgressModel",
            "bar_style": "success",
            "max": 54000,
            "_view_module": "@jupyter-widgets/controls",
            "_model_module_version": "1.5.0",
            "value": 54000,
            "_view_count": null,
            "_view_module_version": "1.5.0",
            "orientation": "horizontal",
            "min": 0,
            "description_tooltip": null,
            "_model_module": "@jupyter-widgets/controls",
            "layout": "IPY_MODEL_0308162cbd294200922fa6cb21d77aa9"
          }
        },
        "1f78287923f649eb936a6cbcd0243e4a": {
          "model_module": "@jupyter-widgets/controls",
          "model_name": "HTMLModel",
          "model_module_version": "1.5.0",
          "state": {
            "_view_name": "HTMLView",
            "style": "IPY_MODEL_10f46409b230439db84723d68212f6e6",
            "_dom_classes": [],
            "description": "",
            "_model_name": "HTMLModel",
            "placeholder": "​",
            "_view_module": "@jupyter-widgets/controls",
            "_model_module_version": "1.5.0",
            "value": " 54000/54000 [04:02&lt;00:00, 220.20it/s]",
            "_view_count": null,
            "_view_module_version": "1.5.0",
            "description_tooltip": null,
            "_model_module": "@jupyter-widgets/controls",
            "layout": "IPY_MODEL_c63c7f555a554fc4b326f4e2155c8aa0"
          }
        },
        "c280c79df7044546a13c34c522acb701": {
          "model_module": "@jupyter-widgets/controls",
          "model_name": "DescriptionStyleModel",
          "model_module_version": "1.5.0",
          "state": {
            "_view_name": "StyleView",
            "_model_name": "DescriptionStyleModel",
            "description_width": "",
            "_view_module": "@jupyter-widgets/base",
            "_model_module_version": "1.5.0",
            "_view_count": null,
            "_view_module_version": "1.2.0",
            "_model_module": "@jupyter-widgets/controls"
          }
        },
        "637180b3adfd45eb93df128462dbfe8f": {
          "model_module": "@jupyter-widgets/base",
          "model_name": "LayoutModel",
          "model_module_version": "1.2.0",
          "state": {
            "_view_name": "LayoutView",
            "grid_template_rows": null,
            "right": null,
            "justify_content": null,
            "_view_module": "@jupyter-widgets/base",
            "overflow": null,
            "_model_module_version": "1.2.0",
            "_view_count": null,
            "flex_flow": null,
            "width": null,
            "min_width": null,
            "border": null,
            "align_items": null,
            "bottom": null,
            "_model_module": "@jupyter-widgets/base",
            "top": null,
            "grid_column": null,
            "overflow_y": null,
            "overflow_x": null,
            "grid_auto_flow": null,
            "grid_area": null,
            "grid_template_columns": null,
            "flex": null,
            "_model_name": "LayoutModel",
            "justify_items": null,
            "grid_row": null,
            "max_height": null,
            "align_content": null,
            "visibility": null,
            "align_self": null,
            "height": null,
            "min_height": null,
            "padding": null,
            "grid_auto_rows": null,
            "grid_gap": null,
            "max_width": null,
            "order": null,
            "_view_module_version": "1.2.0",
            "grid_template_areas": null,
            "object_position": null,
            "object_fit": null,
            "grid_auto_columns": null,
            "margin": null,
            "display": null,
            "left": null
          }
        },
        "498fbf2ebb2e4e67bd028a5038e26328": {
          "model_module": "@jupyter-widgets/controls",
          "model_name": "ProgressStyleModel",
          "model_module_version": "1.5.0",
          "state": {
            "_view_name": "StyleView",
            "_model_name": "ProgressStyleModel",
            "description_width": "",
            "_view_module": "@jupyter-widgets/base",
            "_model_module_version": "1.5.0",
            "_view_count": null,
            "_view_module_version": "1.2.0",
            "bar_color": null,
            "_model_module": "@jupyter-widgets/controls"
          }
        },
        "0308162cbd294200922fa6cb21d77aa9": {
          "model_module": "@jupyter-widgets/base",
          "model_name": "LayoutModel",
          "model_module_version": "1.2.0",
          "state": {
            "_view_name": "LayoutView",
            "grid_template_rows": null,
            "right": null,
            "justify_content": null,
            "_view_module": "@jupyter-widgets/base",
            "overflow": null,
            "_model_module_version": "1.2.0",
            "_view_count": null,
            "flex_flow": null,
            "width": null,
            "min_width": null,
            "border": null,
            "align_items": null,
            "bottom": null,
            "_model_module": "@jupyter-widgets/base",
            "top": null,
            "grid_column": null,
            "overflow_y": null,
            "overflow_x": null,
            "grid_auto_flow": null,
            "grid_area": null,
            "grid_template_columns": null,
            "flex": null,
            "_model_name": "LayoutModel",
            "justify_items": null,
            "grid_row": null,
            "max_height": null,
            "align_content": null,
            "visibility": null,
            "align_self": null,
            "height": null,
            "min_height": null,
            "padding": null,
            "grid_auto_rows": null,
            "grid_gap": null,
            "max_width": null,
            "order": null,
            "_view_module_version": "1.2.0",
            "grid_template_areas": null,
            "object_position": null,
            "object_fit": null,
            "grid_auto_columns": null,
            "margin": null,
            "display": null,
            "left": null
          }
        },
        "10f46409b230439db84723d68212f6e6": {
          "model_module": "@jupyter-widgets/controls",
          "model_name": "DescriptionStyleModel",
          "model_module_version": "1.5.0",
          "state": {
            "_view_name": "StyleView",
            "_model_name": "DescriptionStyleModel",
            "description_width": "",
            "_view_module": "@jupyter-widgets/base",
            "_model_module_version": "1.5.0",
            "_view_count": null,
            "_view_module_version": "1.2.0",
            "_model_module": "@jupyter-widgets/controls"
          }
        },
        "c63c7f555a554fc4b326f4e2155c8aa0": {
          "model_module": "@jupyter-widgets/base",
          "model_name": "LayoutModel",
          "model_module_version": "1.2.0",
          "state": {
            "_view_name": "LayoutView",
            "grid_template_rows": null,
            "right": null,
            "justify_content": null,
            "_view_module": "@jupyter-widgets/base",
            "overflow": null,
            "_model_module_version": "1.2.0",
            "_view_count": null,
            "flex_flow": null,
            "width": null,
            "min_width": null,
            "border": null,
            "align_items": null,
            "bottom": null,
            "_model_module": "@jupyter-widgets/base",
            "top": null,
            "grid_column": null,
            "overflow_y": null,
            "overflow_x": null,
            "grid_auto_flow": null,
            "grid_area": null,
            "grid_template_columns": null,
            "flex": null,
            "_model_name": "LayoutModel",
            "justify_items": null,
            "grid_row": null,
            "max_height": null,
            "align_content": null,
            "visibility": null,
            "align_self": null,
            "height": null,
            "min_height": null,
            "padding": null,
            "grid_auto_rows": null,
            "grid_gap": null,
            "max_width": null,
            "order": null,
            "_view_module_version": "1.2.0",
            "grid_template_areas": null,
            "object_position": null,
            "object_fit": null,
            "grid_auto_columns": null,
            "margin": null,
            "display": null,
            "left": null
          }
        },
        "a0a92ab16ad94aea908ac4e340e3d0ef": {
          "model_module": "@jupyter-widgets/controls",
          "model_name": "HBoxModel",
          "model_module_version": "1.5.0",
          "state": {
            "_view_name": "HBoxView",
            "_dom_classes": [],
            "_model_name": "HBoxModel",
            "_view_module": "@jupyter-widgets/controls",
            "_model_module_version": "1.5.0",
            "_view_count": null,
            "_view_module_version": "1.5.0",
            "box_style": "",
            "layout": "IPY_MODEL_bc2ef44c6e284ef3ac518378a9589fe1",
            "_model_module": "@jupyter-widgets/controls",
            "children": [
              "IPY_MODEL_64afd89acca04214ad23b8f371f8252f",
              "IPY_MODEL_db788a3054f84287a3785c14b1a26ab9",
              "IPY_MODEL_fde6fe8f0336452084fb93170f1a0ad7"
            ]
          }
        },
        "bc2ef44c6e284ef3ac518378a9589fe1": {
          "model_module": "@jupyter-widgets/base",
          "model_name": "LayoutModel",
          "model_module_version": "1.2.0",
          "state": {
            "_view_name": "LayoutView",
            "grid_template_rows": null,
            "right": null,
            "justify_content": null,
            "_view_module": "@jupyter-widgets/base",
            "overflow": null,
            "_model_module_version": "1.2.0",
            "_view_count": null,
            "flex_flow": null,
            "width": null,
            "min_width": null,
            "border": null,
            "align_items": null,
            "bottom": null,
            "_model_module": "@jupyter-widgets/base",
            "top": null,
            "grid_column": null,
            "overflow_y": null,
            "overflow_x": null,
            "grid_auto_flow": null,
            "grid_area": null,
            "grid_template_columns": null,
            "flex": null,
            "_model_name": "LayoutModel",
            "justify_items": null,
            "grid_row": null,
            "max_height": null,
            "align_content": null,
            "visibility": null,
            "align_self": null,
            "height": null,
            "min_height": null,
            "padding": null,
            "grid_auto_rows": null,
            "grid_gap": null,
            "max_width": null,
            "order": null,
            "_view_module_version": "1.2.0",
            "grid_template_areas": null,
            "object_position": null,
            "object_fit": null,
            "grid_auto_columns": null,
            "margin": null,
            "display": null,
            "left": null
          }
        },
        "64afd89acca04214ad23b8f371f8252f": {
          "model_module": "@jupyter-widgets/controls",
          "model_name": "HTMLModel",
          "model_module_version": "1.5.0",
          "state": {
            "_view_name": "HTMLView",
            "style": "IPY_MODEL_4ed936d8a4fd4be2b58a2ff18b257967",
            "_dom_classes": [],
            "description": "",
            "_model_name": "HTMLModel",
            "placeholder": "​",
            "_view_module": "@jupyter-widgets/controls",
            "_model_module_version": "1.5.0",
            "value": "100%",
            "_view_count": null,
            "_view_module_version": "1.5.0",
            "description_tooltip": null,
            "_model_module": "@jupyter-widgets/controls",
            "layout": "IPY_MODEL_c494c12390e240beaabfca9f653b398e"
          }
        },
        "db788a3054f84287a3785c14b1a26ab9": {
          "model_module": "@jupyter-widgets/controls",
          "model_name": "FloatProgressModel",
          "model_module_version": "1.5.0",
          "state": {
            "_view_name": "ProgressView",
            "style": "IPY_MODEL_96d1c5a7d35e4c2daafdf8714563875c",
            "_dom_classes": [],
            "description": "",
            "_model_name": "FloatProgressModel",
            "bar_style": "success",
            "max": 54000,
            "_view_module": "@jupyter-widgets/controls",
            "_model_module_version": "1.5.0",
            "value": 54000,
            "_view_count": null,
            "_view_module_version": "1.5.0",
            "orientation": "horizontal",
            "min": 0,
            "description_tooltip": null,
            "_model_module": "@jupyter-widgets/controls",
            "layout": "IPY_MODEL_c2b3eb6523964790bb0f577e5bc17b99"
          }
        },
        "fde6fe8f0336452084fb93170f1a0ad7": {
          "model_module": "@jupyter-widgets/controls",
          "model_name": "HTMLModel",
          "model_module_version": "1.5.0",
          "state": {
            "_view_name": "HTMLView",
            "style": "IPY_MODEL_991a7ec1846447a49f90f46c4007874c",
            "_dom_classes": [],
            "description": "",
            "_model_name": "HTMLModel",
            "placeholder": "​",
            "_view_module": "@jupyter-widgets/controls",
            "_model_module_version": "1.5.0",
            "value": " 54000/54000 [04:02&lt;00:00, 222.62it/s]",
            "_view_count": null,
            "_view_module_version": "1.5.0",
            "description_tooltip": null,
            "_model_module": "@jupyter-widgets/controls",
            "layout": "IPY_MODEL_8e157f77cd0f45a3a9df5bf3d460ccac"
          }
        },
        "4ed936d8a4fd4be2b58a2ff18b257967": {
          "model_module": "@jupyter-widgets/controls",
          "model_name": "DescriptionStyleModel",
          "model_module_version": "1.5.0",
          "state": {
            "_view_name": "StyleView",
            "_model_name": "DescriptionStyleModel",
            "description_width": "",
            "_view_module": "@jupyter-widgets/base",
            "_model_module_version": "1.5.0",
            "_view_count": null,
            "_view_module_version": "1.2.0",
            "_model_module": "@jupyter-widgets/controls"
          }
        },
        "c494c12390e240beaabfca9f653b398e": {
          "model_module": "@jupyter-widgets/base",
          "model_name": "LayoutModel",
          "model_module_version": "1.2.0",
          "state": {
            "_view_name": "LayoutView",
            "grid_template_rows": null,
            "right": null,
            "justify_content": null,
            "_view_module": "@jupyter-widgets/base",
            "overflow": null,
            "_model_module_version": "1.2.0",
            "_view_count": null,
            "flex_flow": null,
            "width": null,
            "min_width": null,
            "border": null,
            "align_items": null,
            "bottom": null,
            "_model_module": "@jupyter-widgets/base",
            "top": null,
            "grid_column": null,
            "overflow_y": null,
            "overflow_x": null,
            "grid_auto_flow": null,
            "grid_area": null,
            "grid_template_columns": null,
            "flex": null,
            "_model_name": "LayoutModel",
            "justify_items": null,
            "grid_row": null,
            "max_height": null,
            "align_content": null,
            "visibility": null,
            "align_self": null,
            "height": null,
            "min_height": null,
            "padding": null,
            "grid_auto_rows": null,
            "grid_gap": null,
            "max_width": null,
            "order": null,
            "_view_module_version": "1.2.0",
            "grid_template_areas": null,
            "object_position": null,
            "object_fit": null,
            "grid_auto_columns": null,
            "margin": null,
            "display": null,
            "left": null
          }
        },
        "96d1c5a7d35e4c2daafdf8714563875c": {
          "model_module": "@jupyter-widgets/controls",
          "model_name": "ProgressStyleModel",
          "model_module_version": "1.5.0",
          "state": {
            "_view_name": "StyleView",
            "_model_name": "ProgressStyleModel",
            "description_width": "",
            "_view_module": "@jupyter-widgets/base",
            "_model_module_version": "1.5.0",
            "_view_count": null,
            "_view_module_version": "1.2.0",
            "bar_color": null,
            "_model_module": "@jupyter-widgets/controls"
          }
        },
        "c2b3eb6523964790bb0f577e5bc17b99": {
          "model_module": "@jupyter-widgets/base",
          "model_name": "LayoutModel",
          "model_module_version": "1.2.0",
          "state": {
            "_view_name": "LayoutView",
            "grid_template_rows": null,
            "right": null,
            "justify_content": null,
            "_view_module": "@jupyter-widgets/base",
            "overflow": null,
            "_model_module_version": "1.2.0",
            "_view_count": null,
            "flex_flow": null,
            "width": null,
            "min_width": null,
            "border": null,
            "align_items": null,
            "bottom": null,
            "_model_module": "@jupyter-widgets/base",
            "top": null,
            "grid_column": null,
            "overflow_y": null,
            "overflow_x": null,
            "grid_auto_flow": null,
            "grid_area": null,
            "grid_template_columns": null,
            "flex": null,
            "_model_name": "LayoutModel",
            "justify_items": null,
            "grid_row": null,
            "max_height": null,
            "align_content": null,
            "visibility": null,
            "align_self": null,
            "height": null,
            "min_height": null,
            "padding": null,
            "grid_auto_rows": null,
            "grid_gap": null,
            "max_width": null,
            "order": null,
            "_view_module_version": "1.2.0",
            "grid_template_areas": null,
            "object_position": null,
            "object_fit": null,
            "grid_auto_columns": null,
            "margin": null,
            "display": null,
            "left": null
          }
        },
        "991a7ec1846447a49f90f46c4007874c": {
          "model_module": "@jupyter-widgets/controls",
          "model_name": "DescriptionStyleModel",
          "model_module_version": "1.5.0",
          "state": {
            "_view_name": "StyleView",
            "_model_name": "DescriptionStyleModel",
            "description_width": "",
            "_view_module": "@jupyter-widgets/base",
            "_model_module_version": "1.5.0",
            "_view_count": null,
            "_view_module_version": "1.2.0",
            "_model_module": "@jupyter-widgets/controls"
          }
        },
        "8e157f77cd0f45a3a9df5bf3d460ccac": {
          "model_module": "@jupyter-widgets/base",
          "model_name": "LayoutModel",
          "model_module_version": "1.2.0",
          "state": {
            "_view_name": "LayoutView",
            "grid_template_rows": null,
            "right": null,
            "justify_content": null,
            "_view_module": "@jupyter-widgets/base",
            "overflow": null,
            "_model_module_version": "1.2.0",
            "_view_count": null,
            "flex_flow": null,
            "width": null,
            "min_width": null,
            "border": null,
            "align_items": null,
            "bottom": null,
            "_model_module": "@jupyter-widgets/base",
            "top": null,
            "grid_column": null,
            "overflow_y": null,
            "overflow_x": null,
            "grid_auto_flow": null,
            "grid_area": null,
            "grid_template_columns": null,
            "flex": null,
            "_model_name": "LayoutModel",
            "justify_items": null,
            "grid_row": null,
            "max_height": null,
            "align_content": null,
            "visibility": null,
            "align_self": null,
            "height": null,
            "min_height": null,
            "padding": null,
            "grid_auto_rows": null,
            "grid_gap": null,
            "max_width": null,
            "order": null,
            "_view_module_version": "1.2.0",
            "grid_template_areas": null,
            "object_position": null,
            "object_fit": null,
            "grid_auto_columns": null,
            "margin": null,
            "display": null,
            "left": null
          }
        }
      }
    }
  },
  "nbformat": 4,
  "nbformat_minor": 0
}