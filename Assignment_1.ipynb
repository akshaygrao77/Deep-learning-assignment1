{
  "nbformat": 4,
  "nbformat_minor": 0,
  "metadata": {
    "colab": {
      "name": "Assignment-1.ipynb",
      "provenance": [],
      "collapsed_sections": [],
      "authorship_tag": "ABX9TyM3j9kek2bnfRTWLoAcGTEh",
      "include_colab_link": true
    },
    "kernelspec": {
      "name": "python3",
      "display_name": "Python 3"
    },
    "language_info": {
      "name": "python"
    }
  },
  "cells": [
    {
      "cell_type": "markdown",
      "metadata": {
        "id": "view-in-github",
        "colab_type": "text"
      },
      "source": [
        "<a href=\"https://colab.research.google.com/github/akshaygrao77/Deep-learning-assignment1/blob/Question-3/Assignment_1.ipynb\" target=\"_parent\"><img src=\"https://colab.research.google.com/assets/colab-badge.svg\" alt=\"Open In Colab\"/></a>"
      ]
    },
    {
      "cell_type": "code",
      "execution_count": 147,
      "metadata": {
        "id": "c56SyC-YJP2l"
      },
      "outputs": [],
      "source": [
        "from keras.datasets import fashion_mnist\n",
        "import matplotlib.pyplot as plt\n",
        "import numpy as np\n",
        "import math"
      ]
    },
    {
      "cell_type": "code",
      "source": [
        "!pip install wandb\n",
        "!wandb login"
      ],
      "metadata": {
        "colab": {
          "base_uri": "https://localhost:8080/"
        },
        "id": "UDs0PaU3bSy1",
        "outputId": "bfb78801-cb7f-4955-e831-243f24cf9d45"
      },
      "execution_count": 2,
      "outputs": [
        {
          "output_type": "stream",
          "name": "stdout",
          "text": [
            "Collecting wandb\n",
            "  Downloading wandb-0.12.10-py2.py3-none-any.whl (1.7 MB)\n",
            "\u001b[K     |████████████████████████████████| 1.7 MB 5.2 MB/s \n",
            "\u001b[?25hRequirement already satisfied: python-dateutil>=2.6.1 in /usr/local/lib/python3.7/dist-packages (from wandb) (2.8.2)\n",
            "Collecting sentry-sdk>=1.0.0\n",
            "  Downloading sentry_sdk-1.5.4-py2.py3-none-any.whl (143 kB)\n",
            "\u001b[K     |████████████████████████████████| 143 kB 43.3 MB/s \n",
            "\u001b[?25hRequirement already satisfied: promise<3,>=2.0 in /usr/local/lib/python3.7/dist-packages (from wandb) (2.3)\n",
            "Requirement already satisfied: protobuf>=3.12.0 in /usr/local/lib/python3.7/dist-packages (from wandb) (3.17.3)\n",
            "Collecting pathtools\n",
            "  Downloading pathtools-0.1.2.tar.gz (11 kB)\n",
            "Requirement already satisfied: Click!=8.0.0,>=7.0 in /usr/local/lib/python3.7/dist-packages (from wandb) (7.1.2)\n",
            "Collecting docker-pycreds>=0.4.0\n",
            "  Downloading docker_pycreds-0.4.0-py2.py3-none-any.whl (9.0 kB)\n",
            "Requirement already satisfied: psutil>=5.0.0 in /usr/local/lib/python3.7/dist-packages (from wandb) (5.4.8)\n",
            "Requirement already satisfied: PyYAML in /usr/local/lib/python3.7/dist-packages (from wandb) (3.13)\n",
            "Requirement already satisfied: requests<3,>=2.0.0 in /usr/local/lib/python3.7/dist-packages (from wandb) (2.23.0)\n",
            "Collecting yaspin>=1.0.0\n",
            "  Downloading yaspin-2.1.0-py3-none-any.whl (18 kB)\n",
            "Collecting shortuuid>=0.5.0\n",
            "  Downloading shortuuid-1.0.8-py3-none-any.whl (9.5 kB)\n",
            "Requirement already satisfied: six>=1.13.0 in /usr/local/lib/python3.7/dist-packages (from wandb) (1.15.0)\n",
            "Collecting GitPython>=1.0.0\n",
            "  Downloading GitPython-3.1.26-py3-none-any.whl (180 kB)\n",
            "\u001b[K     |████████████████████████████████| 180 kB 38.9 MB/s \n",
            "\u001b[?25hRequirement already satisfied: typing-extensions>=3.7.4.3 in /usr/local/lib/python3.7/dist-packages (from GitPython>=1.0.0->wandb) (3.10.0.2)\n",
            "Collecting gitdb<5,>=4.0.1\n",
            "  Downloading gitdb-4.0.9-py3-none-any.whl (63 kB)\n",
            "\u001b[K     |████████████████████████████████| 63 kB 1.5 MB/s \n",
            "\u001b[?25hCollecting smmap<6,>=3.0.1\n",
            "  Downloading smmap-5.0.0-py3-none-any.whl (24 kB)\n",
            "Requirement already satisfied: certifi>=2017.4.17 in /usr/local/lib/python3.7/dist-packages (from requests<3,>=2.0.0->wandb) (2021.10.8)\n",
            "Requirement already satisfied: urllib3!=1.25.0,!=1.25.1,<1.26,>=1.21.1 in /usr/local/lib/python3.7/dist-packages (from requests<3,>=2.0.0->wandb) (1.24.3)\n",
            "Requirement already satisfied: idna<3,>=2.5 in /usr/local/lib/python3.7/dist-packages (from requests<3,>=2.0.0->wandb) (2.10)\n",
            "Requirement already satisfied: chardet<4,>=3.0.2 in /usr/local/lib/python3.7/dist-packages (from requests<3,>=2.0.0->wandb) (3.0.4)\n",
            "Requirement already satisfied: termcolor<2.0.0,>=1.1.0 in /usr/local/lib/python3.7/dist-packages (from yaspin>=1.0.0->wandb) (1.1.0)\n",
            "Building wheels for collected packages: pathtools\n",
            "  Building wheel for pathtools (setup.py) ... \u001b[?25l\u001b[?25hdone\n",
            "  Created wheel for pathtools: filename=pathtools-0.1.2-py3-none-any.whl size=8806 sha256=8b86780f6862da93142ec5a14f95d3eda1abf30af349e91a38b9d494a2219291\n",
            "  Stored in directory: /root/.cache/pip/wheels/3e/31/09/fa59cef12cdcfecc627b3d24273699f390e71828921b2cbba2\n",
            "Successfully built pathtools\n",
            "Installing collected packages: smmap, gitdb, yaspin, shortuuid, sentry-sdk, pathtools, GitPython, docker-pycreds, wandb\n",
            "Successfully installed GitPython-3.1.26 docker-pycreds-0.4.0 gitdb-4.0.9 pathtools-0.1.2 sentry-sdk-1.5.4 shortuuid-1.0.8 smmap-5.0.0 wandb-0.12.10 yaspin-2.1.0\n",
            "\u001b[34m\u001b[1mwandb\u001b[0m: You can find your API key in your browser here: https://wandb.ai/authorize\n",
            "\u001b[34m\u001b[1mwandb\u001b[0m: Paste an API key from your profile and hit enter, or press ctrl+c to quit: \n",
            "\u001b[34m\u001b[1mwandb\u001b[0m: Appending key for api.wandb.ai to your netrc file: /root/.netrc\n"
          ]
        }
      ]
    },
    {
      "cell_type": "code",
      "source": [
        "import wandb\n",
        "\n",
        "wandb.init(project=\"Deep learning assignment1\", entity=\"akshaygrao\")"
      ],
      "metadata": {
        "colab": {
          "base_uri": "https://localhost:8080/",
          "height": 74
        },
        "id": "l7S9Txmvby9G",
        "outputId": "be55546c-5683-4f32-c58b-71d97b459b0e"
      },
      "execution_count": 3,
      "outputs": [
        {
          "output_type": "stream",
          "name": "stderr",
          "text": [
            "\u001b[34m\u001b[1mwandb\u001b[0m: Currently logged in as: \u001b[33makshaygrao\u001b[0m (use `wandb login --relogin` to force relogin)\n"
          ]
        },
        {
          "output_type": "display_data",
          "data": {
            "text/html": [
              "\n",
              "                    Syncing run <strong><a href=\"https://wandb.ai/akshaygrao/Deep%20learning%20assignment1/runs/gk1biwwf\" target=\"_blank\">likely-feather-3</a></strong> to <a href=\"https://wandb.ai/akshaygrao/Deep%20learning%20assignment1\" target=\"_blank\">Weights & Biases</a> (<a href=\"https://docs.wandb.com/integrations/jupyter.html\" target=\"_blank\">docs</a>).<br/>\n",
              "\n",
              "                "
            ],
            "text/plain": [
              "<IPython.core.display.HTML object>"
            ]
          },
          "metadata": {}
        },
        {
          "output_type": "execute_result",
          "data": {
            "text/plain": [
              "<wandb.sdk.wandb_run.Run at 0x7ff39ce4bbd0>"
            ],
            "text/html": [
              "<button onClick=\"this.nextSibling.style.display='block';this.style.display='none';\">Display W&B run</button><iframe src=\"https://wandb.ai/akshaygrao/Deep%20learning%20assignment1/runs/gk1biwwf?jupyter=true\" style=\"border:none;width:100%;height:420px;display:none;\"></iframe>"
            ]
          },
          "metadata": {},
          "execution_count": 3
        }
      ]
    },
    {
      "cell_type": "code",
      "source": [
        "wandb.config = {\n",
        "  \"learning_rate\": 0.001,\n",
        "  \"epochs\": 100,\n",
        "  \"batch_size\": 128\n",
        "}"
      ],
      "metadata": {
        "id": "EX_0bvTcb401"
      },
      "execution_count": 4,
      "outputs": []
    },
    {
      "cell_type": "markdown",
      "source": [
        "# **Question 1 starts**"
      ],
      "metadata": {
        "id": "vhblbkxZZTB3"
      }
    },
    {
      "cell_type": "markdown",
      "source": [
        "Loading dataset from fashio-mnist"
      ],
      "metadata": {
        "id": "GWft3bAmZLfz"
      }
    },
    {
      "cell_type": "code",
      "source": [
        "(x_train, y_train), (x_test, y_test) = fashion_mnist.load_data()"
      ],
      "metadata": {
        "id": "xjCgLdUGSuwd",
        "colab": {
          "base_uri": "https://localhost:8080/"
        },
        "outputId": "eba41f43-b761-4ca7-aa2e-7ccb8b516903"
      },
      "execution_count": 5,
      "outputs": [
        {
          "output_type": "stream",
          "name": "stdout",
          "text": [
            "Downloading data from https://storage.googleapis.com/tensorflow/tf-keras-datasets/train-labels-idx1-ubyte.gz\n",
            "32768/29515 [=================================] - 0s 0us/step\n",
            "40960/29515 [=========================================] - 0s 0us/step\n",
            "Downloading data from https://storage.googleapis.com/tensorflow/tf-keras-datasets/train-images-idx3-ubyte.gz\n",
            "26427392/26421880 [==============================] - 0s 0us/step\n",
            "26435584/26421880 [==============================] - 0s 0us/step\n",
            "Downloading data from https://storage.googleapis.com/tensorflow/tf-keras-datasets/t10k-labels-idx1-ubyte.gz\n",
            "16384/5148 [===============================================================================================] - 0s 0us/step\n",
            "Downloading data from https://storage.googleapis.com/tensorflow/tf-keras-datasets/t10k-images-idx3-ubyte.gz\n",
            "4423680/4422102 [==============================] - 0s 0us/step\n",
            "4431872/4422102 [==============================] - 0s 0us/step\n"
          ]
        }
      ]
    },
    {
      "cell_type": "code",
      "source": [
        "def print_image_per_class():\n",
        "  num_class=10\n",
        "  for cls in range(num_class):\n",
        "    i=0\n",
        "    while(True):\n",
        "      i=i+1\n",
        "      if(y_train[i] == cls):\n",
        "        # image = x_train[i]\n",
        "        plt.imshow( x_train[i], cmap='gray')\n",
        "        plt.show()\n",
        "        plt.close()\n",
        "        break;"
      ],
      "metadata": {
        "id": "UGd8jLf8TvDT"
      },
      "execution_count": 6,
      "outputs": []
    },
    {
      "cell_type": "code",
      "source": [
        "print_image_per_class()"
      ],
      "metadata": {
        "colab": {
          "base_uri": "https://localhost:8080/",
          "height": 1000
        },
        "id": "1_UsoPirT01b",
        "outputId": "b30692d0-b3f9-4c9c-8da1-6b83ed76097d"
      },
      "execution_count": 7,
      "outputs": [
        {
          "output_type": "display_data",
          "data": {
            "image/png": "[encoded data removed]",
            "text/plain": [
              "<Figure size 432x288 with 1 Axes>"
            ]
          },
          "metadata": {
            "needs_background": "light"
          }
        },
        {
          "output_type": "display_data",
          "data": {
            "image/png": "[encoded data removed]",
            "text/plain": [
              "<Figure size 432x288 with 1 Axes>"
            ]
          },
          "metadata": {
            "needs_background": "light"
          }
        },
        {
          "output_type": "display_data",
          "data": {
            "image/png": "[encoded data removed]",
            "text/plain": [
              "<Figure size 432x288 with 1 Axes>"
            ]
          },
          "metadata": {
            "needs_background": "light"
          }
        },
        {
          "output_type": "display_data",
          "data": {
            "image/png": "[encoded data removed]",
            "text/plain": [
              "<Figure size 432x288 with 1 Axes>"
            ]
          },
          "metadata": {
            "needs_background": "light"
          }
        },
        {
          "output_type": "display_data",
          "data": {
            "image/png": "[encoded data removed]",
            "text/plain": [
              "<Figure size 432x288 with 1 Axes>"
            ]
          },
          "metadata": {
            "needs_background": "light"
          }
        },
        {
          "output_type": "display_data",
          "data": {
            "image/png": "[encoded data removed]",
            "text/plain": [
              "<Figure size 432x288 with 1 Axes>"
            ]
          },
          "metadata": {
            "needs_background": "light"
          }
        },
        {
          "output_type": "display_data",
          "data": {
            "image/png": "[encoded data removed]",
            "text/plain": [
              "<Figure size 432x288 with 1 Axes>"
            ]
          },
          "metadata": {
            "needs_background": "light"
          }
        },
        {
          "output_type": "display_data",
          "data": {
            "image/png": "[encoded data removed]",
            "text/plain": [
              "<Figure size 432x288 with 1 Axes>"
            ]
          },
          "metadata": {
            "needs_background": "light"
          }
        },
        {
          "output_type": "display_data",
          "data": {
            "image/png": "[encoded data removed]",
            "text/plain": [
              "<Figure size 432x288 with 1 Axes>"
            ]
          },
          "metadata": {
            "needs_background": "light"
          }
        },
        {
          "output_type": "display_data",
          "data": {
            "image/png": "[encoded data removed]",
            "text/plain": [
              "<Figure size 432x288 with 1 Axes>"
            ]
          },
          "metadata": {
            "needs_background": "light"
          }
        }
      ]
    },
    {
      "cell_type": "markdown",
      "source": [
        "# **Question 2 starts**"
      ],
      "metadata": {
        "id": "Ni3O_BhnZaTS"
      }
    },
    {
      "cell_type": "code",
      "source": [
        "x_train.shape"
      ],
      "metadata": {
        "id": "qiVcaMR7V-sX",
        "colab": {
          "base_uri": "https://localhost:8080/"
        },
        "outputId": "b0a88692-0e68-4666-fc04-49cca7c99974"
      },
      "execution_count": 8,
      "outputs": [
        {
          "output_type": "execute_result",
          "data": {
            "text/plain": [
              "(60000, 28, 28)"
            ]
          },
          "metadata": {},
          "execution_count": 8
        }
      ]
    },
    {
      "cell_type": "code",
      "source": [
        "x_test.shape"
      ],
      "metadata": {
        "colab": {
          "base_uri": "https://localhost:8080/"
        },
        "id": "DdGRoHZQgVVI",
        "outputId": "3723b5b9-8afe-4eb6-996c-d41813ef2291"
      },
      "execution_count": 9,
      "outputs": [
        {
          "output_type": "execute_result",
          "data": {
            "text/plain": [
              "(10000, 28, 28)"
            ]
          },
          "metadata": {},
          "execution_count": 9
        }
      ]
    },
    {
      "cell_type": "markdown",
      "source": [
        "Flatten each image into a 1-d array to input to the network"
      ],
      "metadata": {
        "id": "YKQrN4fNiuy4"
      }
    },
    {
      "cell_type": "code",
      "source": [
        "x_train = x_train.reshape(60000, 784)\n",
        "x_test = x_test.reshape(10000, 784)"
      ],
      "metadata": {
        "id": "k5yzGo1ng9n1"
      },
      "execution_count": 10,
      "outputs": []
    },
    {
      "cell_type": "code",
      "source": [
        "x_train.shape"
      ],
      "metadata": {
        "colab": {
          "base_uri": "https://localhost:8080/"
        },
        "id": "Kz62n2oYirjJ",
        "outputId": "96ffb2bc-626d-4270-871f-d3e3bc1c9052"
      },
      "execution_count": 11,
      "outputs": [
        {
          "output_type": "execute_result",
          "data": {
            "text/plain": [
              "(60000, 784)"
            ]
          },
          "metadata": {},
          "execution_count": 11
        }
      ]
    },
    {
      "cell_type": "code",
      "source": [
        "x_test.shape"
      ],
      "metadata": {
        "colab": {
          "base_uri": "https://localhost:8080/"
        },
        "id": "kaK-eQ1litfw",
        "outputId": "1159a26b-71ef-485d-8bc0-ef54c9597d13"
      },
      "execution_count": 12,
      "outputs": [
        {
          "output_type": "execute_result",
          "data": {
            "text/plain": [
              "(10000, 784)"
            ]
          },
          "metadata": {},
          "execution_count": 12
        }
      ]
    },
    {
      "cell_type": "markdown",
      "source": [
        "Categorical encoding for labels"
      ],
      "metadata": {
        "id": "lspua0Nui5xN"
      }
    },
    {
      "cell_type": "code",
      "source": [
        "import tensorflow.keras as keras\n",
        "num_categories = 10\n",
        "\n",
        "y_train = keras.utils.to_categorical(y_train, num_categories)\n",
        "y_test = keras.utils.to_categorical(y_test, num_categories)"
      ],
      "metadata": {
        "id": "pL7JqMSdhIos"
      },
      "execution_count": 13,
      "outputs": []
    },
    {
      "cell_type": "code",
      "source": [
        "class Activation:\n",
        "    def sigmoid(self, X):\n",
        "      return 1.0 / (1.0 + np.exp(-X))\n",
        "\n",
        "    def softmax(self, X):\n",
        "      exps = np.exp(X)\n",
        "      return exps / np.sum(exps)"
      ],
      "metadata": {
        "id": "CEe2B3JRpLzW"
      },
      "execution_count": 14,
      "outputs": []
    },
    {
      "cell_type": "code",
      "source": [
        "class InputLayer:\n",
        "  number_of_inputs=0\n",
        "\n",
        "  def __init__(self,number_of_inputs) -> None:\n",
        "      self.number_of_inputs = number_of_inputs"
      ],
      "metadata": {
        "id": "kqlkEUzksmv6"
      },
      "execution_count": 15,
      "outputs": []
    },
    {
      "cell_type": "code",
      "source": [
        "class Layer:\n",
        "  number_of_neurons=0\n",
        "  activation = 'sigmoid'\n",
        "  \n",
        "  def __init__(self,number_of_neurons,activation) -> None:\n",
        "      self.number_of_neurons = number_of_neurons\n",
        "      self.activation = activation"
      ],
      "metadata": {
        "id": "Z0JrCQg4qdnn"
      },
      "execution_count": 16,
      "outputs": []
    },
    {
      "cell_type": "code",
      "source": [
        "t=[1,2,3]\n",
        "print(len(t))\n",
        "for i in range(1,len(t)):\n",
        "  print(i)"
      ],
      "metadata": {
        "colab": {
          "base_uri": "https://localhost:8080/"
        },
        "id": "pV-F7MxXDy9y",
        "outputId": "afba591a-d982-4eb5-d0d7-b544c444d215"
      },
      "execution_count": 17,
      "outputs": [
        {
          "output_type": "stream",
          "name": "stdout",
          "text": [
            "3\n",
            "1\n",
            "2\n"
          ]
        }
      ]
    },
    {
      "cell_type": "code",
      "source": [
        "t= np.array([1,2,3])\n",
        "t= t[np.newaxis]\n",
        "print(t.T)\n",
        "print(t.shape)\n",
        "r = np.array([0,1,2])[np.newaxis].T\n",
        "r = 5*r\n",
        "print(r)\n",
        "print(r.shape)\n",
        "print(np.matmul(r,t))"
      ],
      "metadata": {
        "colab": {
          "base_uri": "https://localhost:8080/"
        },
        "id": "sTaaUuT8L4oV",
        "outputId": "b53b36a3-0d52-4ee4-dc8a-c2684c45bb80"
      },
      "execution_count": 136,
      "outputs": [
        {
          "output_type": "stream",
          "name": "stdout",
          "text": [
            "[[1]\n",
            " [2]\n",
            " [3]]\n",
            "(1, 3)\n",
            "[[ 0]\n",
            " [ 5]\n",
            " [10]]\n",
            "(3, 1)\n",
            "[[ 0  0  0]\n",
            " [ 5 10 15]\n",
            " [10 20 30]]\n"
          ]
        }
      ]
    },
    {
      "cell_type": "code",
      "source": [
        "x1 = np.arange(9.0).reshape((3, 3))\n",
        "print(x1)\n",
        "x2 = np.arange(3.0).reshape((3,1))\n",
        "print(x2)\n",
        "print(np.multiply(x2, x1))\n",
        "print(np.matmul(x1,x2))"
      ],
      "metadata": {
        "colab": {
          "base_uri": "https://localhost:8080/"
        },
        "id": "mxhWK44ByEoI",
        "outputId": "5d024cd4-095f-493a-e394-7cac0577eb22"
      },
      "execution_count": 49,
      "outputs": [
        {
          "output_type": "stream",
          "name": "stdout",
          "text": [
            "[[0. 1. 2.]\n",
            " [3. 4. 5.]\n",
            " [6. 7. 8.]]\n",
            "[[0.]\n",
            " [1.]\n",
            " [2.]]\n",
            "[[ 0.  0.  0.]\n",
            " [ 3.  4.  5.]\n",
            " [12. 14. 16.]]\n",
            "[[ 5.]\n",
            " [14.]\n",
            " [23.]]\n"
          ]
        }
      ]
    },
    {
      "cell_type": "code",
      "source": [
        "test= [None]*3\n",
        "test[2]=np.arange(9).reshape((3,3))\n",
        "print(test)"
      ],
      "metadata": {
        "colab": {
          "base_uri": "https://localhost:8080/"
        },
        "id": "-JyxSJZn4F-n",
        "outputId": "c87cf373-915c-4294-bc73-dc8aadf32cb4"
      },
      "execution_count": 114,
      "outputs": [
        {
          "output_type": "stream",
          "name": "stdout",
          "text": [
            "[None, None, array([[0, 1, 2],\n",
            "       [3, 4, 5],\n",
            "       [6, 7, 8]])]\n"
          ]
        }
      ]
    },
    {
      "cell_type": "code",
      "source": [
        "a1=np.array([[1,2,3]])\n",
        "a2 = np.array([2,3,4])\n",
        "a3 = a1 + a2\n",
        "print(a3[0])"
      ],
      "metadata": {
        "colab": {
          "base_uri": "https://localhost:8080/"
        },
        "id": "L_k3Y5wRsuae",
        "outputId": "ed923b75-af0d-426d-f395-f89f14a93119"
      },
      "execution_count": 139,
      "outputs": [
        {
          "output_type": "stream",
          "name": "stdout",
          "text": [
            "[3 5 7]\n"
          ]
        }
      ]
    },
    {
      "cell_type": "code",
      "source": [
        "class ANNModel:\n",
        "  def __init__(self):\n",
        "    self.layers = []\n",
        "\n",
        "  def addInputLayer(self,input_layer_obj):\n",
        "    self.input_layer_obj = input_layer_obj\n",
        "  \n",
        "  def addLayer(self,layer_obj):\n",
        "    self.layers.append(layer_obj)\n",
        "  \n",
        "  def compile(self,loss):\n",
        "    self.loss = loss\n",
        "    self.randInitWeights()\n",
        "    self.randInitBiases()\n",
        "    self.initAH()\n",
        "    self.array_grad_L_by_A = [None]*(len(self.layers))\n",
        "    self.array_grad_L_by_weight = [None]*(len(self.layers))\n",
        "    self.array_grad_L_by_bias = [None]*(len(self.layers))\n",
        "    self.array_grad_L_by_H = [None]*(len(self.layers))\n",
        "    \n",
        "  def initAH(self):\n",
        "    self.A = []\n",
        "    for l in range(len(self.layers)):\n",
        "      self.A.append(np.zeros(self.layers[l].number_of_neurons))\n",
        "    \n",
        "    self.H = []\n",
        "    self.H.append(np.zeros(self.input_layer_obj.number_of_inputs))\n",
        "    for l in range(1,len(self.layers)+1):\n",
        "      self.H.append(np.zeros(self.layers[l-1].number_of_neurons))\n",
        "    \n",
        "    # print(self.A)\n",
        "    # print(self.H)\n",
        "\n",
        "  def randInitWeights(self):\n",
        "    self.weight_array=[np.random.rand(self.input_layer_obj.number_of_inputs,self.layers[0].number_of_neurons)]\n",
        "    # print(self.weight_array)\n",
        "    # print(self.weight_array[0].shape)\n",
        "    for l in range(1,len(self.layers)):\n",
        "      self.weight_array.append(np.random.rand(self.layers[l-1].number_of_neurons,self.layers[l].number_of_neurons))\n",
        "    #   print(self.weight_array[l].shape)\n",
        "    # print(self.weight_array)\n",
        "    # print(len(self.weight_array))\n",
        "\n",
        "  def randInitBiases(self):\n",
        "    self.bias = []\n",
        "    for l in range(len(self.layers)):\n",
        "      self.bias.append(np.random.rand(self.layers[l].number_of_neurons))\n",
        "      # print(self.bias)\n",
        "      # print(self.bias[l].shape)\n",
        "\n",
        "  def fit(self,x_train,y_train,epochs,verbose=1):\n",
        "    self.verbose=verbose\n",
        "    if(self.verbose >= 4):\n",
        "      self.print_state()\n",
        "    for current_epoch in range(epochs):\n",
        "      if(self.verbose >=2):\n",
        "        print(\"\\n &&&&&&&&&&&&&&&&&&&&  Epoch \",current_epoch,\" &&&&&&&&&&&&&&&&&&&&&&&&\")\n",
        "      sum_of_loss = 0\n",
        "      for index in range(x_train.shape[0]):\n",
        "        y_pred = self.feed_forward(x_train[index])\n",
        "        self.back_prop(y_pred,y_train[index])\n",
        "        self.updateParameters()\n",
        "        current_loss = computeLoss(y_pred,y_train[index],self.loss)\n",
        "        sum_of_loss = sum_of_loss + current_loss\n",
        "        if(self.verbose >= 3):\n",
        "          print(\"Data point number:\",index)\n",
        "        if(self.verbose >= 4):\n",
        "          self.print_state()\n",
        "        if(self.verbose >= 3):\n",
        "          print(\"Predicted output:\",y_pred)\n",
        "          print(\"Actual output:\",y_train[index])\n",
        "          print(\"Loss:\",current_loss)\n",
        "      \n",
        "      if(self.verbose >= 2):\n",
        "        print(\"Average loss: \",(sum_of_loss/x_train.shape[0]))\n",
        "\n",
        "  def updateParameters(self,learning_rate=1):\n",
        "    for l in range(len(self.layers)):\n",
        "      self.weight_array[l] = self.weight_array[l] - (learning_rate)*self.array_grad_L_by_weight[l]\n",
        "      self.bias[l]=(self.bias[l] - (learning_rate)*self.array_grad_L_by_bias[l])[0]\n",
        "\n",
        "  def feed_forward(self,inpX):\n",
        "    self.H[0]= inpX\n",
        "    for l in range(len(self.layers)):\n",
        "      self.A[l]=np.matmul(self.H[l],self.weight_array[l]) + self.bias[l]\n",
        "      self.H[l+1] = calculateActivation(self.layers[l].activation,self.A[l])\n",
        "    return self.H[len(self.layers)]\n",
        "  \n",
        "  def back_prop(self,y_pred,y_train):\n",
        "    if(self.verbose >= 5):\n",
        "      print(\"Back prop starts ===========================\")\n",
        "    self.grad_L_by_ypred = computeLossGradient(y_pred,y_train,self.loss)\n",
        "    self.grad_ypred_by_Aoutput = computeGradientHwrtA(y_pred,self.A[len(self.layers)-1],self.layers[len(self.layers)-1].activation)\n",
        "    if(len(self.grad_ypred_by_Aoutput.shape)==2):\n",
        "      self.array_grad_L_by_A[len(self.layers)-1]=np.matmul(self.grad_L_by_ypred,self.grad_ypred_by_Aoutput)\n",
        "    else:\n",
        "      self.array_grad_L_by_A[len(self.layers)-1]=np.multiply(self.grad_L_by_ypred,self.grad_ypred_by_Aoutput)\n",
        "    \n",
        "    for l in reversed(range(len(self.layers))):\n",
        "      current_H=self.H[l]\n",
        "      current_H=current_H[np.newaxis].T\n",
        "      if(self.verbose >= 5):\n",
        "        print(\"current_H:[\",l,\"]:\",current_H)\n",
        "        print(\"current_H shape:[\",l,\"]:\",current_H.shape)\n",
        "      current_grad_L_by_A = self.array_grad_L_by_A[l]\n",
        "      if(len(current_grad_L_by_A.shape)==1):\n",
        "        current_grad_L_by_A = current_grad_L_by_A[np.newaxis]\n",
        "      \n",
        "      if(self.verbose >= 5):\n",
        "        print(\"current_grad_L_by_A[\",l,\" ]:\",current_grad_L_by_A)\n",
        "        print(\"current_grad_L_by_A[\",l,\" ] shape:\",current_grad_L_by_A.shape)\n",
        "      \n",
        "      self.array_grad_L_by_weight[l]=np.matmul(current_H,current_grad_L_by_A)\n",
        "      \n",
        "      if(self.verbose >= 5):\n",
        "        print(\"self.array_grad_L_by_weight[\",l,\"]:\",self.array_grad_L_by_weight[l])\n",
        "      \n",
        "      self.array_grad_L_by_bias[l] = current_grad_L_by_A\n",
        "      \n",
        "      if(self.verbose >= 5):\n",
        "        print(\"self.array_grad_L_by_bias[\",l,\"]:\",self.array_grad_L_by_bias[l])\n",
        "      \n",
        "      self.array_grad_L_by_H[l] = np.matmul(self.weight_array[l],current_grad_L_by_A.T)\n",
        "      \n",
        "      if(self.verbose >= 5):\n",
        "        print(\"self.array_grad_L_by_H[\",l,\"]:\",self.array_grad_L_by_H[l])\n",
        "      \n",
        "      if(l >= 1):\n",
        "        current_grad_H_by_A = computeGradientHwrtA(self.H[l],self.A[l-1],self.layers[l-1].activation)\n",
        "        current_grad_H_by_A = current_grad_H_by_A[np.newaxis]\n",
        "        if(self.verbose >= 5):\n",
        "          print(\"current_grad_H_by_A[\",l,\"]:\",current_grad_H_by_A)\n",
        "        self.array_grad_L_by_A[l-1] = np.multiply(self.array_grad_L_by_H[l].T,current_grad_H_by_A)\n",
        "        if(self.verbose >= 5):\n",
        "          print(\"self.array_grad_L_by_A[\",(l-1),\"]:\",self.array_grad_L_by_A[l-1])\n",
        "\n",
        "\n",
        "\n",
        "  def print_state(self):\n",
        "    for l in range(len(self.layers)):\n",
        "      print(\"Layer\",l)\n",
        "      print(\"============================\")\n",
        "      print(\"Activation:\",self.layers[l].activation)\n",
        "      print(\"Number of units:\",self.layers[l].number_of_neurons)\n",
        "      print(\"Weights\",self.weight_array[l])\n",
        "      print(\"Biases\",self.bias[l])\n",
        "      print(\"H's\",self.H[l])\n",
        "      print(\"A's\",self.A[l])\n",
        "      print(\"**************************\")"
      ],
      "metadata": {
        "id": "4TKfIP47ijGu"
      },
      "execution_count": 176,
      "outputs": []
    },
    {
      "cell_type": "code",
      "source": [
        "def calculateActivation(activation,A):\n",
        "  if(activation =='sigmoid'):\n",
        "    return Activation().sigmoid(A)\n",
        "  elif(activation == 'softmax'):\n",
        "    return Activation().softmax(A)\n",
        "  else:\n",
        "    print(\"Invalid activation function\")\n",
        "\n",
        "def computeLoss(y_pred,y_actual,loss):\n",
        "  loss_value=0\n",
        "  if(loss=='categorical_crossentropy'):\n",
        "    # To hold label index from y_actual\n",
        "    correct_index=findLabelIndex(y_actual)\n",
        "    loss_value = -math.log(y_pred[correct_index],2)\n",
        "  return loss_value\n",
        "\n",
        "def computeLossGradient(y_pred,y_actual,loss):\n",
        "  grad_L_y = np.zeros(len(y_pred))\n",
        "  if(loss=='categorical_crossentropy'):\n",
        "    # To hold label index from y_actual\n",
        "    correct_index=findLabelIndex(y_actual)\n",
        "    grad_L_y[correct_index] = -1/y_pred[correct_index]\n",
        "  \n",
        "  return grad_L_y\n",
        "\n",
        "def findLabelIndex(y_actual):\n",
        "  for j in range(len(y_actual)):\n",
        "    if(y_actual[j]==1):\n",
        "      return j\n",
        "\n",
        "def computeGradientHwrtA(H,A,activation):\n",
        "  grad_H_by_A = []\n",
        "  # Gradient is a kxk jacobian\n",
        "  if(activation == 'softmax'):\n",
        "    grad_H_by_A=computeSoftmaxGrad(H)\n",
        "  elif(activation == 'sigmoid'):\n",
        "    grad_H_by_A=computeSigmoidGrad(H)\n",
        "  return grad_H_by_A\n",
        "\n",
        "def computeSoftmaxGrad(H):\n",
        "  grad_softmax_jacobian = np.zeros(H.shape[0]*H.shape[0]).reshape(H.shape[0],H.shape[0])\n",
        "  for i in range(H.shape[0]):\n",
        "    for j in range(H.shape[0]):\n",
        "      if(i == j):\n",
        "        grad_softmax_jacobian[i][j] = H[i]*(1-H[j])\n",
        "      else:\n",
        "        grad_softmax_jacobian[i][j] = -H[i]*H[j]\n",
        "  return grad_softmax_jacobian\n",
        "\n",
        "  \n",
        "def computeSigmoidGrad(H):\n",
        "  return H*(1-H)"
      ],
      "metadata": {
        "id": "J-Eyf5NShTFT"
      },
      "execution_count": 151,
      "outputs": []
    },
    {
      "cell_type": "code",
      "source": [
        "sample_xtrain=np.array([[1,2],[2,3],[3,4]])\n",
        "print(sample_xtrain.shape)\n",
        "print(sample_xtrain)"
      ],
      "metadata": {
        "colab": {
          "base_uri": "https://localhost:8080/"
        },
        "id": "uy-kRM--tU5u",
        "outputId": "857df7ff-3d90-4687-b6f8-b588e7005116"
      },
      "execution_count": 156,
      "outputs": [
        {
          "output_type": "stream",
          "name": "stdout",
          "text": [
            "(3, 2)\n",
            "[[1 2]\n",
            " [2 3]\n",
            " [3 4]]\n"
          ]
        }
      ]
    },
    {
      "cell_type": "code",
      "source": [
        "sample_ytrain=np.array([[1,0,0,0],[0,1,0,0],[0,0,1,0]])\n",
        "print(sample_ytrain)\n",
        "print(sample_ytrain.shape)"
      ],
      "metadata": {
        "colab": {
          "base_uri": "https://localhost:8080/"
        },
        "id": "KySDZSYIUjIP",
        "outputId": "c2241ccc-fcf8-482d-e919-a7a7a814d253"
      },
      "execution_count": 155,
      "outputs": [
        {
          "output_type": "stream",
          "name": "stdout",
          "text": [
            "[[1 0 0 0]\n",
            " [0 1 0 0]\n",
            " [0 0 1 0]]\n",
            "(3, 4)\n"
          ]
        }
      ]
    },
    {
      "cell_type": "code",
      "source": [
        "ann_model = ANNModel()\n",
        "input_layer = InputLayer(2)\n",
        "hidden_layer1 = Layer(300,activation='sigmoid')\n",
        "hidden_layer2 = Layer(10,activation='sigmoid')\n",
        "output_layer = Layer(4,activation='softmax')\n",
        "\n",
        "ann_model.addInputLayer(input_layer)\n",
        "ann_model.addLayer(hidden_layer1)\n",
        "# ann_model.addLayer(hidden_layer2)\n",
        "ann_model.addLayer(output_layer)\n",
        "\n",
        "ann_model.compile('categorical_crossentropy')\n",
        "ann_model.fit(sample_xtrain,sample_ytrain,5,3)\n",
        "# ann_model.print_state()"
      ],
      "metadata": {
        "colab": {
          "base_uri": "https://localhost:8080/"
        },
        "id": "MqcfAefoqcty",
        "outputId": "27e6d3d6-c797-4c3e-d862-8dabcd55230d"
      },
      "execution_count": 185,
      "outputs": [
        {
          "output_type": "stream",
          "name": "stdout",
          "text": [
            "\n",
            " &&&&&&&&&&&&&&&&&&&&  Epoch  0  &&&&&&&&&&&&&&&&&&&&&&&&\n",
            "Data point number: 0\n",
            "Predicted output: [1.89798915e-05 1.87759599e-02 9.78620107e-01 2.58495297e-03]\n",
            "Actual output: [1 0 0 0]\n",
            "Loss: 15.685168731350993\n",
            "Data point number: 1\n",
            "Predicted output: [1.00000000e+000 1.85971205e-103 9.63440577e-202 5.65784365e-103]\n",
            "Actual output: [0 1 0 0]\n",
            "Loss: 341.26351451537187\n",
            "Data point number: 2\n",
            "Predicted output: [2.99766627e-113 1.00000000e+000 1.34510769e-199 6.64727885e-105]\n",
            "Actual output: [0 0 1 0]\n",
            "Loss: 660.6359691973657\n",
            "Average loss:  339.19488414802953\n",
            "\n",
            " &&&&&&&&&&&&&&&&&&&&  Epoch  1  &&&&&&&&&&&&&&&&&&&&&&&&\n",
            "Data point number: 0\n",
            "Predicted output: [9.21677079e-10 4.46868099e-06 9.99916654e-01 7.88767398e-05]\n",
            "Actual output: [1 0 0 0]\n",
            "Loss: 30.015019576492673\n",
            "Data point number: 1\n",
            "Predicted output: [1.00000000e+000 7.43474755e-059 5.72504055e-114 6.47882070e-057]\n",
            "Actual output: [0 1 0 0]\n",
            "Loss: 193.09947384182715\n",
            "Data point number: 2\n",
            "Predicted output: [1.06845794e-062 1.00000000e+000 2.78767352e-108 1.35667493e-056]\n",
            "Actual output: [0 0 1 0]\n",
            "Loss: 357.2891726365335\n",
            "Average loss:  193.46788868495113\n",
            "\n",
            " &&&&&&&&&&&&&&&&&&&&  Epoch  2  &&&&&&&&&&&&&&&&&&&&&&&&\n",
            "Data point number: 0\n",
            "Predicted output: [1.23744064e-05 1.21336917e-02 9.78748715e-01 9.10521918e-03]\n",
            "Actual output: [1 0 0 0]\n",
            "Loss: 16.302281153007662\n",
            "Data point number: 1\n",
            "Predicted output: [1.00000000e+00 1.15061706e-32 2.53875246e-61 1.64573812e-31]\n",
            "Actual output: [0 1 0 0]\n",
            "Loss: 106.09929127005616\n",
            "Data point number: 2\n",
            "Predicted output: [1.57742454e-34 1.00000000e+00 5.44761441e-58 2.07266744e-31]\n",
            "Actual output: [0 0 1 0]\n",
            "Loss: 190.22620491237691\n",
            "Average loss:  104.20925911181358\n",
            "\n",
            " &&&&&&&&&&&&&&&&&&&&  Epoch  3  &&&&&&&&&&&&&&&&&&&&&&&&\n",
            "Data point number: 0\n",
            "Predicted output: [0.00175329 0.79249015 0.19844575 0.00731081]\n",
            "Actual output: [1 0 0 0]\n",
            "Loss: 9.155718924657753\n",
            "Data point number: 1\n",
            "Predicted output: [1.00000000e+00 1.99590924e-32 6.24080873e-19 2.42436937e-18]\n",
            "Actual output: [0 1 0 0]\n",
            "Loss: 105.3046529195994\n",
            "Data point number: 2\n",
            "Predicted output: [4.82329171e-05 9.99780871e-01 3.00763195e-05 1.40820004e-04]\n",
            "Actual output: [0 0 1 0]\n",
            "Loss: 15.021012442944333\n",
            "Average loss:  43.16046142906716\n",
            "\n",
            " &&&&&&&&&&&&&&&&&&&&  Epoch  4  &&&&&&&&&&&&&&&&&&&&&&&&\n",
            "Data point number: 0\n",
            "Predicted output: [7.49653621e-11 9.84096452e-20 1.00000000e+00 1.95071811e-11]\n",
            "Actual output: [1 0 0 0]\n",
            "Loss: 33.63498489406726\n",
            "Data point number: 1\n",
            "Predicted output: [1.00000000e+00 4.19225993e-21 1.80171852e-13 1.13652867e-12]\n",
            "Actual output: [0 1 0 0]\n",
            "Loss: 67.69276182372462\n",
            "Data point number: 2\n",
            "Predicted output: [0.01913957 0.95410921 0.00468793 0.02206329]\n",
            "Actual output: [0 0 1 0]\n",
            "Loss: 7.736834591155902\n",
            "Average loss:  36.354860436315924\n"
          ]
        }
      ]
    },
    {
      "cell_type": "code",
      "source": [
        ""
      ],
      "metadata": {
        "id": "O9Kca8TSH9A_"
      },
      "execution_count": null,
      "outputs": []
    }
  ]
}